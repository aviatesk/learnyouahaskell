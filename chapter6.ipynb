{
 "cells": [
  {
   "cell_type": "markdown",
   "metadata": {
    "nteract": {
     "transient": {
      "deleting": false
     }
    }
   },
   "source": [
    "# Chapter 6 -- Higher Order Functions\n"
   ]
  },
  {
   "cell_type": "code",
   "execution_count": 1,
   "metadata": {
    "jupyter": {
     "outputs_hidden": false,
     "source_hidden": false
    },
    "nteract": {
     "transient": {
      "deleting": false
     }
    },
    "outputExpanded": false
   },
   "outputs": [],
   "source": [
    "-- IHaskell settings\n",
    ":opt no-lint\n",
    ":opt no-pager"
   ]
  },
  {
   "cell_type": "markdown",
   "metadata": {
    "nteract": {
     "transient": {
      "deleting": false
     }
    }
   },
   "source": [
    "**Higher order function**: a function that does either of:\n",
    "- take functions as parameters\n",
    "- return functions as return value\n",
    "\n",
    "> Higher order functions aren't just a part of the Haskell experience, they pretty much are _the Haskell experience_.\n",
    "> It turns out that if you want to define computations by defining what stuff _is_ instead of defining steps that change some state and maybe looping them, higher order functions are indispensable.\n",
    "> They're a really powerful way of solving problems and thinking about programs.\n",
    "\n"
   ]
  },
  {
   "cell_type": "markdown",
   "metadata": {
    "nteract": {
     "transient": {
      "deleting": false
     }
    }
   },
   "source": [
    "## Curried Functions\n",
    "\n",
    "... Every function in Haskell officially only takes one parameter; so how is it possible that we defined and used several function that take more than one parameter so far ?\n",
    "\n",
    "The clever trick: all the functions that accepted _several parameters_ so far have been **Curried Functions**\n",
    "\n",
    "Example: `max 4 5`:\n",
    "- first creates a function that takes a parameter and return either 4 or that parameter, depending on which is bigger\n",
    "- then, `5` is applied to that function and that function produced our desired result\n",
    "- ... sounds mouthful, but it's actually a really cool concept\n"
   ]
  },
  {
   "cell_type": "code",
   "execution_count": 2,
   "metadata": {
    "jupyter": {
     "outputs_hidden": false,
     "source_hidden": false
    },
    "nteract": {
     "transient": {
      "deleting": false
     }
    },
    "outputExpanded": false
   },
   "outputs": [
    {
     "data": {
      "text/plain": [
       "5"
      ]
     },
     "metadata": {},
     "output_type": "display_data"
    },
    {
     "data": {
      "text/plain": [
       "5"
      ]
     },
     "metadata": {},
     "output_type": "display_data"
    },
    {
     "data": {
      "text/html": [
       "<style>/* Styles used for the Hoogle display in the pager */\n",
       ".hoogle-doc {\n",
       "display: block;\n",
       "padding-bottom: 1.3em;\n",
       "padding-left: 0.4em;\n",
       "}\n",
       ".hoogle-code {\n",
       "display: block;\n",
       "font-family: monospace;\n",
       "white-space: pre;\n",
       "}\n",
       ".hoogle-text {\n",
       "display: block;\n",
       "}\n",
       ".hoogle-name {\n",
       "color: green;\n",
       "font-weight: bold;\n",
       "}\n",
       ".hoogle-head {\n",
       "font-weight: bold;\n",
       "}\n",
       ".hoogle-sub {\n",
       "display: block;\n",
       "margin-left: 0.4em;\n",
       "}\n",
       ".hoogle-package {\n",
       "font-weight: bold;\n",
       "font-style: italic;\n",
       "}\n",
       ".hoogle-module {\n",
       "font-weight: bold;\n",
       "}\n",
       ".hoogle-class {\n",
       "font-weight: bold;\n",
       "}\n",
       ".get-type {\n",
       "color: green;\n",
       "font-weight: bold;\n",
       "font-family: monospace;\n",
       "display: block;\n",
       "white-space: pre-wrap;\n",
       "}\n",
       ".show-type {\n",
       "color: green;\n",
       "font-weight: bold;\n",
       "font-family: monospace;\n",
       "margin-left: 1em;\n",
       "}\n",
       ".mono {\n",
       "font-family: monospace;\n",
       "display: block;\n",
       "}\n",
       ".err-msg {\n",
       "color: red;\n",
       "font-style: italic;\n",
       "font-family: monospace;\n",
       "white-space: pre;\n",
       "display: block;\n",
       "}\n",
       "#unshowable {\n",
       "color: red;\n",
       "font-weight: bold;\n",
       "}\n",
       ".err-msg.in.collapse {\n",
       "padding-top: 0.7em;\n",
       "}\n",
       ".highlight-code {\n",
       "white-space: pre;\n",
       "font-family: monospace;\n",
       "}\n",
       ".suggestion-warning { \n",
       "font-weight: bold;\n",
       "color: rgb(200, 130, 0);\n",
       "}\n",
       ".suggestion-error { \n",
       "font-weight: bold;\n",
       "color: red;\n",
       "}\n",
       ".suggestion-name {\n",
       "font-weight: bold;\n",
       "}\n",
       "</style><span class='get-type'>max :: forall a. Ord a => a -> a -> a</span>"
      ],
      "text/plain": [
       "max :: forall a. Ord a => a -> a -> a"
      ]
     },
     "metadata": {},
     "output_type": "display_data"
    },
    {
     "data": {
      "text/html": [
       "<style>/* Styles used for the Hoogle display in the pager */\n",
       ".hoogle-doc {\n",
       "display: block;\n",
       "padding-bottom: 1.3em;\n",
       "padding-left: 0.4em;\n",
       "}\n",
       ".hoogle-code {\n",
       "display: block;\n",
       "font-family: monospace;\n",
       "white-space: pre;\n",
       "}\n",
       ".hoogle-text {\n",
       "display: block;\n",
       "}\n",
       ".hoogle-name {\n",
       "color: green;\n",
       "font-weight: bold;\n",
       "}\n",
       ".hoogle-head {\n",
       "font-weight: bold;\n",
       "}\n",
       ".hoogle-sub {\n",
       "display: block;\n",
       "margin-left: 0.4em;\n",
       "}\n",
       ".hoogle-package {\n",
       "font-weight: bold;\n",
       "font-style: italic;\n",
       "}\n",
       ".hoogle-module {\n",
       "font-weight: bold;\n",
       "}\n",
       ".hoogle-class {\n",
       "font-weight: bold;\n",
       "}\n",
       ".get-type {\n",
       "color: green;\n",
       "font-weight: bold;\n",
       "font-family: monospace;\n",
       "display: block;\n",
       "white-space: pre-wrap;\n",
       "}\n",
       ".show-type {\n",
       "color: green;\n",
       "font-weight: bold;\n",
       "font-family: monospace;\n",
       "margin-left: 1em;\n",
       "}\n",
       ".mono {\n",
       "font-family: monospace;\n",
       "display: block;\n",
       "}\n",
       ".err-msg {\n",
       "color: red;\n",
       "font-style: italic;\n",
       "font-family: monospace;\n",
       "white-space: pre;\n",
       "display: block;\n",
       "}\n",
       "#unshowable {\n",
       "color: red;\n",
       "font-weight: bold;\n",
       "}\n",
       ".err-msg.in.collapse {\n",
       "padding-top: 0.7em;\n",
       "}\n",
       ".highlight-code {\n",
       "white-space: pre;\n",
       "font-family: monospace;\n",
       "}\n",
       ".suggestion-warning { \n",
       "font-weight: bold;\n",
       "color: rgb(200, 130, 0);\n",
       "}\n",
       ".suggestion-error { \n",
       "font-weight: bold;\n",
       "color: red;\n",
       "}\n",
       ".suggestion-name {\n",
       "font-weight: bold;\n",
       "}\n",
       "</style><span class='get-type'>max 4 :: forall a. (Ord a, Num a) => a -> a</span>"
      ],
      "text/plain": [
       "max 4 :: forall a. (Ord a, Num a) => a -> a"
      ]
     },
     "metadata": {},
     "output_type": "display_data"
    }
   ],
   "source": [
    "-- So the following two calls are equivalent\n",
    "max 4 5\n",
    "(max 4) 5\n",
    ":t max\n",
    ":t max 4"
   ]
  },
  {
   "cell_type": "markdown",
   "metadata": {
    "nteract": {
     "transient": {
      "deleting": false
     }
    }
   },
   "source": [
    "The space is sort of like an operator (function application) and it has the highest precedence; `max :: (Ord a) => a -> a -> a` can be written as `max :: (Ord a) => a -> (a -> a)`:\n",
    "- read as `max` takes an `a` and returns (that's the `->`) a function that takes an `a` and returns an `a`\n",
    "- this is why the return type and the parameters of functions are all simply separated with arrows\n",
    "\n",
    "How beneficial ?:\n",
    "- **partially applied function**: a function that takes as many parameters as we left out\n",
    "- using partial application (i.e. calling functions with too few parameters, if we will) is a neat way to create functions on the fly so we can pass them to another function or to seed them with some data\n"
   ]
  },
  {
   "cell_type": "markdown",
   "metadata": {
    "nteract": {
     "transient": {
      "deleting": false
     }
    }
   },
   "source": [
    "Verbose explanation\n"
   ]
  },
  {
   "cell_type": "code",
   "execution_count": 3,
   "metadata": {
    "jupyter": {
     "outputs_hidden": false,
     "source_hidden": false
    },
    "nteract": {
     "transient": {
      "deleting": false
     }
    },
    "outputExpanded": false
   },
   "outputs": [
    {
     "data": {
      "text/plain": [
       "135"
      ]
     },
     "metadata": {},
     "output_type": "display_data"
    },
    {
     "data": {
      "text/plain": [
       "135"
      ]
     },
     "metadata": {},
     "output_type": "display_data"
    }
   ],
   "source": [
    "multThree :: (Num a) => a -> a -> a -> a\n",
    "multThree x y z = x * y * z\n",
    "\n",
    "multThree 3 5 9\n",
    "((multThree 3) 5) 9"
   ]
  },
  {
   "cell_type": "markdown",
   "metadata": {
    "nteract": {
     "transient": {
      "deleting": false
     }
    }
   },
   "source": [
    "`multThree 3 5 9` (or `((multThree 3) 5) 9`):\n",
    "\n",
    "1. first, `3` is applied to `multThree`, because they're separated by a space; that creates a function that takes one parameter and returns a function\n",
    "2. then `5` is applied to that, which creates a function that will take a parameter and multiply it by `15`\n",
    "3. finally `9` is applied to that function and the result is `135` or something\n",
    "\n",
    "Function type `multThree :: (Num a) => a -> (a -> (a -> a))`\n",
    "(the thing before the `->` is the parameter that a function takes and the thing after it is what it returns):\n",
    "\n",
    "1. first, `multThree` takes an `a` and returns a function of type `(Num a) => a -> (a -> a)`\n",
    "2. then this function takes an `a` and returns function of type `(Num a) => a -> a`\n",
    "3. finally this function just takes an `a` and return an `a`\n"
   ]
  },
  {
   "cell_type": "code",
   "execution_count": 4,
   "metadata": {
    "jupyter": {
     "outputs_hidden": false,
     "source_hidden": false
    },
    "nteract": {
     "transient": {
      "deleting": false
     }
    },
    "outputExpanded": false
   },
   "outputs": [
    {
     "data": {
      "text/plain": [
       "54"
      ]
     },
     "metadata": {},
     "output_type": "display_data"
    },
    {
     "data": {
      "text/plain": [
       "180"
      ]
     },
     "metadata": {},
     "output_type": "display_data"
    }
   ],
   "source": [
    "let multTwoWithNine = multThree 9\n",
    "multTwoWithNine 2 3\n",
    "let multWithEighteen = multTwoWithNine 2\n",
    "multWithEighteen 10"
   ]
  },
  {
   "cell_type": "code",
   "execution_count": 5,
   "metadata": {
    "jupyter": {
     "outputs_hidden": false,
     "source_hidden": false
    },
    "nteract": {
     "transient": {
      "deleting": false
     }
    },
    "outputExpanded": false
   },
   "outputs": [
    {
     "data": {
      "text/plain": [
       "GT"
      ]
     },
     "metadata": {},
     "output_type": "display_data"
    },
    {
     "data": {
      "text/plain": [
       "GT"
      ]
     },
     "metadata": {},
     "output_type": "display_data"
    }
   ],
   "source": [
    "compareWithHundred :: (Num a, Ord a) => a -> Ordering\n",
    "compareWithHundred x = compare 100 x\n",
    "compareWithHundred 99\n",
    "\n",
    "compareWithHundred :: (Num a, Ord a) => a -> Ordering\n",
    "compareWithHundred = compare 100 -- wow !\n",
    "compareWithHundred 99"
   ]
  },
  {
   "cell_type": "markdown",
   "metadata": {
    "nteract": {
     "transient": {
      "deleting": false
     }
    }
   },
   "source": [
    "By calling functions with too few parameters, so to speak, we're creating new functions _on the fly_.\n"
   ]
  },
  {
   "cell_type": "markdown",
   "metadata": {
    "nteract": {
     "transient": {
      "deleting": false
     }
    }
   },
   "source": [
    "Infix functions can also be partially applied by using sections:\n",
    "- to section an infix function, simply surround it with parentheses and only supply a parameter on one side\n",
    "- that creates a function that takes one parameter and then applies it to the side that's missing an operand\n"
   ]
  },
  {
   "cell_type": "code",
   "execution_count": 6,
   "metadata": {
    "jupyter": {
     "outputs_hidden": false,
     "source_hidden": false
    },
    "nteract": {
     "transient": {
      "deleting": false
     }
    },
    "outputExpanded": false
   },
   "outputs": [
    {
     "data": {
      "text/plain": [
       "2.0"
      ]
     },
     "metadata": {},
     "output_type": "display_data"
    },
    {
     "data": {
      "text/plain": [
       "0.5"
      ]
     },
     "metadata": {},
     "output_type": "display_data"
    },
    {
     "data": {
      "text/plain": [
       "False"
      ]
     },
     "metadata": {},
     "output_type": "display_data"
    },
    {
     "data": {
      "text/plain": [
       "True"
      ]
     },
     "metadata": {},
     "output_type": "display_data"
    }
   ],
   "source": [
    "devideByTen :: (Floating a) => a -> a\n",
    "devideByTen = (/10)\n",
    "\n",
    "devideTen :: (Floating a) => a -> a\n",
    "devideTen = (10/)\n",
    "\n",
    "isUpperAlphanum :: Char -> Bool\n",
    "isUpperAlphanum = (`elem` ['A'..'Z'])\n",
    "\n",
    "devideTen 5\n",
    "devideByTen 5\n",
    "isUpperAlphanum 's'\n",
    "isUpperAlphanum 'S'"
   ]
  },
  {
   "cell_type": "code",
   "execution_count": 7,
   "metadata": {
    "jupyter": {
     "outputs_hidden": false,
     "source_hidden": false
    },
    "nteract": {
     "transient": {
      "deleting": false
     }
    },
    "outputExpanded": false
   },
   "outputs": [
    {
     "data": {
      "text/plain": [
       "6"
      ]
     },
     "metadata": {},
     "output_type": "display_data"
    }
   ],
   "source": [
    "-- NOTE:\n",
    "-- The only special thing about sections is using `-`;\n",
    "-- for convenience, (-4) means minus four, not a partially applied function.\n",
    "-- For that, we need partially apply the `subtract` function\n",
    "subtractFour = subtract 4\n",
    "subtractFour 10"
   ]
  },
  {
   "cell_type": "markdown",
   "metadata": {
    "nteract": {
     "transient": {
      "deleting": false
     }
    }
   },
   "source": [
    "NOTE: Functions aren't instances of the `Show` typeclass, so we can't get a neat string representation of a function; so the error below\n"
   ]
  },
  {
   "cell_type": "code",
   "execution_count": 8,
   "metadata": {
    "jupyter": {
     "outputs_hidden": false,
     "source_hidden": false
    },
    "nteract": {
     "transient": {
      "deleting": false
     }
    },
    "outputExpanded": false
   },
   "outputs": [
    {
     "ename": "",
     "evalue": "",
     "output_type": "error",
     "traceback": [
      "<interactive>:1:1: error:\n    • No instance for (Show (Integer -> Integer)) arising from a use of ‘print’\n        (maybe you haven't applied a function to enough arguments?)\n    • In a stmt of an interactive GHCi command: print it"
     ]
    }
   ],
   "source": [
    "multThree 3 4"
   ]
  },
  {
   "cell_type": "markdown",
   "metadata": {
    "nteract": {
     "transient": {
      "deleting": false
     }
    }
   },
   "source": [
    "## Higher-orderism\n",
    "\n",
    "Functions can take functions as parameters and also return functions.\n"
   ]
  },
  {
   "cell_type": "code",
   "execution_count": 9,
   "metadata": {
    "jupyter": {
     "outputs_hidden": false,
     "source_hidden": false
    },
    "nteract": {
     "transient": {
      "deleting": false
     }
    },
    "outputExpanded": false
   },
   "outputs": [],
   "source": [
    "applyTwice :: (a -> a) -> a -> a\n",
    "applyTwice f x = f (f x)"
   ]
  },
  {
   "cell_type": "markdown",
   "metadata": {
    "nteract": {
     "transient": {
      "deleting": false
     }
    }
   },
   "source": [
    "Type declaration: `applyTwice :: (a -> a) -> a -> a`:\n",
    "- the parentheses are mandatory: that indicates the first parameter is a function that takes something and returns the same thing\n",
    "  * NOTE: parentheses are right-associative\n",
    "- let's read as:\n",
    "  * this function takes two parameters and returns one thing\n",
    "  * the first parameter is a function (of type `a -> a`)\n",
    "  * the second is that same `a`\n",
    "\n",
    "Body itself is so simple; we can understand it well\n"
   ]
  },
  {
   "cell_type": "code",
   "execution_count": 10,
   "metadata": {
    "jupyter": {
     "outputs_hidden": false,
     "source_hidden": false
    },
    "nteract": {
     "transient": {
      "deleting": false
     }
    },
    "outputExpanded": false
   },
   "outputs": [
    {
     "data": {
      "text/plain": [
       "16"
      ]
     },
     "metadata": {},
     "output_type": "display_data"
    },
    {
     "data": {
      "text/plain": [
       "\"HEY HAHA HAHA\""
      ]
     },
     "metadata": {},
     "output_type": "display_data"
    },
    {
     "data": {
      "text/plain": [
       "\"HAHA HAHA HEY\""
      ]
     },
     "metadata": {},
     "output_type": "display_data"
    },
    {
     "data": {
      "text/plain": [
       "144"
      ]
     },
     "metadata": {},
     "output_type": "display_data"
    },
    {
     "data": {
      "text/plain": [
       "[1,1,3]"
      ]
     },
     "metadata": {},
     "output_type": "display_data"
    }
   ],
   "source": [
    "applyTwice (+3) 10\n",
    "applyTwice (++ \" HAHA\") \"HEY\"\n",
    "applyTwice (\"HAHA \" ++) \"HEY\"\n",
    "applyTwice (multThree 2 2) 9\n",
    "applyTwice (1:) [3] -- here we go !"
   ]
  },
  {
   "cell_type": "markdown",
   "metadata": {
    "nteract": {
     "transient": {
      "deleting": false
     }
    }
   },
   "source": [
    "`zipWith`: takes a function and two lists as parameters and then joins the two lists by applying the function between corresponding elements\n"
   ]
  },
  {
   "cell_type": "code",
   "execution_count": 11,
   "metadata": {
    "jupyter": {
     "outputs_hidden": false,
     "source_hidden": false
    },
    "nteract": {
     "transient": {
      "deleting": false
     }
    },
    "outputExpanded": false
   },
   "outputs": [
    {
     "data": {
      "text/plain": [
       "[0,0,0,0]"
      ]
     },
     "metadata": {},
     "output_type": "display_data"
    },
    {
     "data": {
      "text/plain": [
       "[1,2,3,4]"
      ]
     },
     "metadata": {},
     "output_type": "display_data"
    },
    {
     "data": {
      "text/plain": [
       "[\"foo fighters\",\"bar hoppers\",\"baz aldrin\"]"
      ]
     },
     "metadata": {},
     "output_type": "display_data"
    },
    {
     "data": {
      "text/plain": [
       "[3,4,5,6,7]"
      ]
     },
     "metadata": {},
     "output_type": "display_data"
    },
    {
     "data": {
      "text/plain": [
       "[[2,4,6],[8,10,12],[14,16,18]]"
      ]
     },
     "metadata": {},
     "output_type": "display_data"
    }
   ],
   "source": [
    "zipWith' :: (a -> b -> c) -> [a] -> [b] -> [c]\n",
    "zipWith' _ [] _          = []\n",
    "zipWith' _ _ []          = []\n",
    "zipWith' f (x:xs) (y:ys) = f x y : zipWith' f xs ys\n",
    "\n",
    "zipWith' (+) [1..4] [(-1),(-2)..(-4)]\n",
    "zipWith' max [1..4] [(-1),(-2)..(-4)]\n",
    "zipWith' (++) [\"foo \", \"bar \", \"baz \"] [\"fighters\", \"hoppers\", \"aldrin\"]\n",
    "zipWith' (+) (replicate 5 2) [1..]\n",
    "zipWith' (zipWith' (+)) [[1..3], [4..6], [7..9]] [[1..3], [4..6], [7..9]]"
   ]
  },
  {
   "cell_type": "markdown",
   "metadata": {
    "nteract": {
     "transient": {
      "deleting": false
     }
    }
   },
   "source": [
    "`flip`: takes a function and returns a function that is like our original function, only the first two arguments are flipped\n"
   ]
  },
  {
   "cell_type": "code",
   "execution_count": 12,
   "metadata": {
    "jupyter": {
     "outputs_hidden": false,
     "source_hidden": false
    },
    "nteract": {
     "transient": {
      "deleting": false
     }
    },
    "outputExpanded": false
   },
   "outputs": [],
   "source": [
    "flip' :: (a -> b -> c) -> (b -> a -> c) -- the second parentheses aren't really necessary\n",
    "flip' f = g\n",
    "  where g x y = f y x"
   ]
  },
  {
   "cell_type": "markdown",
   "metadata": {
    "nteract": {
     "transient": {
      "deleting": false
     }
    }
   },
   "source": [
    "By taking advantage of the fact that functions are curried, we can defined it in an even more simpler manner:\n"
   ]
  },
  {
   "cell_type": "code",
   "execution_count": 13,
   "metadata": {
    "jupyter": {
     "outputs_hidden": false,
     "source_hidden": false
    },
    "nteract": {
     "transient": {
      "deleting": false
     }
    },
    "outputExpanded": false
   },
   "outputs": [
    {
     "data": {
      "text/plain": [
       "[('h',1),('e',2),('l',3),('l',4),('o',5)]"
      ]
     },
     "metadata": {},
     "output_type": "display_data"
    },
    {
     "data": {
      "text/plain": [
       "[5,4,3,2,1]"
      ]
     },
     "metadata": {},
     "output_type": "display_data"
    }
   ],
   "source": [
    "-- NOTE: when we call `flip' f` without the parameters `y` and `x`, it will return an `f` that takes those two parameters but calls them flipped.\n",
    "flip' :: (a -> b -> c) -> b -> a -> c\n",
    "flip' f y x = f x y\n",
    "\n",
    "flip' zip [1..5] \"hello\"\n",
    "zipWith (flip' div) [2,2..] [10,8..2]"
   ]
  },
  {
   "cell_type": "markdown",
   "metadata": {
    "nteract": {
     "transient": {
      "deleting": false
     }
    }
   },
   "source": [
    "## `map`s and `filter`s\n",
    "\n",
    "> Mapping and filtering is the bread and butter of every functional programmer's toolbox.\n"
   ]
  },
  {
   "cell_type": "markdown",
   "metadata": {
    "nteract": {
     "transient": {
      "deleting": false
     }
    }
   },
   "source": [
    "`map`: one of those really versatile higher-order functions that can be used in millions of different ways\n"
   ]
  },
  {
   "cell_type": "code",
   "execution_count": 14,
   "metadata": {
    "jupyter": {
     "outputs_hidden": false,
     "source_hidden": false
    },
    "nteract": {
     "transient": {
      "deleting": false
     }
    },
    "outputExpanded": false
   },
   "outputs": [
    {
     "data": {
      "text/plain": [
       "[4,8,6,4,9]"
      ]
     },
     "metadata": {},
     "output_type": "display_data"
    },
    {
     "data": {
      "text/plain": [
       "[\"BIFF!\",\"BANG!\",\"POW!\"]"
      ]
     },
     "metadata": {},
     "output_type": "display_data"
    },
    {
     "data": {
      "text/plain": [
       "[[3,3,3],[4,4,4],[5,5,5],[6,6,6]]"
      ]
     },
     "metadata": {},
     "output_type": "display_data"
    },
    {
     "data": {
      "text/plain": [
       "[[1,4],[9,16,25,36],[49,64]]"
      ]
     },
     "metadata": {},
     "output_type": "display_data"
    },
    {
     "data": {
      "text/plain": [
       "[1,3,5]"
      ]
     },
     "metadata": {},
     "output_type": "display_data"
    }
   ],
   "source": [
    "map' :: (a -> b) -> [a] -> [b]\n",
    "map' _ []     = []\n",
    "map' f (x:xs) = f x : map f xs\n",
    "\n",
    "map' (+3) [1,5,3,1,6]\n",
    "map' (++ \"!\") [\"BIFF\", \"BANG\", \"POW\"]\n",
    "map' (replicate 3) [3..6]\n",
    "map' (map' (^2)) [[1,2], [3..6], [7,8]]\n",
    "map' fst [(1,2), (3,4), (5,6)]"
   ]
  },
  {
   "cell_type": "markdown",
   "metadata": {
    "nteract": {
     "transient": {
      "deleting": false
     }
    }
   },
   "source": [
    "`filter`:"
   ]
  },
  {
   "cell_type": "code",
   "execution_count": 15,
   "metadata": {
    "jupyter": {
     "outputs_hidden": false,
     "source_hidden": false
    },
    "nteract": {
     "transient": {
      "deleting": false
     }
    },
    "outputExpanded": false
   },
   "outputs": [
    {
     "data": {
      "text/plain": [
       "[4,5,6,7,8,9,10]"
      ]
     },
     "metadata": {},
     "output_type": "display_data"
    },
    {
     "data": {
      "text/plain": [
       "[3]"
      ]
     },
     "metadata": {},
     "output_type": "display_data"
    },
    {
     "data": {
      "text/plain": [
       "[2,4,6,8,10]"
      ]
     },
     "metadata": {},
     "output_type": "display_data"
    },
    {
     "data": {
      "text/plain": [
       "[[1,2,3],[4,5,6],[2,2]]"
      ]
     },
     "metadata": {},
     "output_type": "display_data"
    },
    {
     "data": {
      "text/plain": [
       "\"uagameasadifeent\""
      ]
     },
     "metadata": {},
     "output_type": "display_data"
    },
    {
     "data": {
      "text/plain": [
       "\"GAYBALLS\""
      ]
     },
     "metadata": {},
     "output_type": "display_data"
    }
   ],
   "source": [
    "filter' :: (a -> Bool) -> [a] -> [a]\n",
    "filter' _ [] = []\n",
    "filter' p (x:xs)\n",
    "  | p x       = x : filter' p xs\n",
    "  | otherwise = filter' p xs\n",
    "\n",
    "filter' (>3) [1..10]\n",
    "filter' (==3) [1..5]\n",
    "filter' even [1..10]\n",
    "let notNull x = not (null x) in filter notNull [[1..3], [], [4..6], [2,2], [], []]\n",
    "filter (`elem` ['a'..'z']) \"u LaUgH aT mE BeCaUsE I aM diFfeRent\"\n",
    "filter (`elem` ['A'..'Z']) \"i lauGh At You BecAuse u r aLL the Same\""
   ]
  },
  {
   "cell_type": "markdown",
   "metadata": {
    "nteract": {
     "transient": {
      "deleting": false
     }
    }
   },
   "source": [
    "NOTE: the same thing could be achieved with a list comprehension:\n",
    "- there's no set rule for when to use `map` and `filter` versus using list comprehension; we just have to decide what's more readable depending on the code and the context\n"
   ]
  },
  {
   "cell_type": "code",
   "execution_count": 16,
   "metadata": {
    "jupyter": {
     "outputs_hidden": false,
     "source_hidden": false
    },
    "nteract": {
     "transient": {
      "deleting": false
     }
    },
    "outputExpanded": false
   },
   "outputs": [
    {
     "data": {
      "text/plain": [
       "\" KSaadehhiikouw\""
      ]
     },
     "metadata": {},
     "output_type": "display_data"
    }
   ],
   "source": [
    "quicksort :: (Ord a) => [a] -> [a]\n",
    "quicksort [] = []\n",
    "quicksort (x:xs) =\n",
    "  smallerSorted ++ [x] ++ biggerSorted\n",
    "  where smallerSorted = quicksort (filter (<=x) xs)\n",
    "        biggerSorted  = quicksort (filter (>x) xs)\n",
    "\n",
    "quicksort \"Shuhei Kadowaki\""
   ]
  },
  {
   "cell_type": "markdown",
   "metadata": {
    "nteract": {
     "transient": {
      "deleting": false
     }
    }
   },
   "source": [
    "Haskell laziness & `map`/`filter`:\n",
    "> Thanks to Haskell's laziness, even if you map something over a list several times and filter it several times, it will only pass over the list once.\n"
   ]
  },
  {
   "cell_type": "markdown",
   "metadata": {
    "nteract": {
     "transient": {
      "deleting": false
     }
    }
   },
   "source": [
    "**find the largest number under 100,000 that's divisible by 3829**\n"
   ]
  },
  {
   "cell_type": "code",
   "execution_count": 17,
   "metadata": {
    "jupyter": {
     "outputs_hidden": false,
     "source_hidden": false
    },
    "nteract": {
     "transient": {
      "deleting": false
     }
    },
    "outputExpanded": false
   },
   "outputs": [],
   "source": [
    "largestDivisible :: (Integral a) => a\n",
    "largestDivisible = head (filter p [100000,99999..]) -- this can be infinite list; the computation stops anyways\n",
    "  where p x = x `mod` 3829 == 0"
   ]
  },
  {
   "cell_type": "markdown",
   "metadata": {
    "nteract": {
     "transient": {
      "deleting": false
     }
    }
   },
   "source": [
    "**find the sum of all odd squares that are smaller than 10,000**\n",
    "\n",
    "`takeWhile`:\n",
    "- takes a predicate and a list and then goes from the beginning of the list and returns its elements while the predicate holds true; once an element is found for which the predicate doesn't hold, it stops\n"
   ]
  },
  {
   "cell_type": "code",
   "execution_count": 18,
   "metadata": {
    "jupyter": {
     "outputs_hidden": false,
     "source_hidden": false
    },
    "nteract": {
     "transient": {
      "deleting": false
     }
    },
    "outputExpanded": false
   },
   "outputs": [
    {
     "data": {
      "text/plain": [
       "166650"
      ]
     },
     "metadata": {},
     "output_type": "display_data"
    },
    {
     "data": {
      "text/plain": [
       "166650"
      ]
     },
     "metadata": {},
     "output_type": "display_data"
    }
   ],
   "source": [
    "-- awesome !\n",
    "sum (takeWhile (<10000) (filter odd (map (^2) [1..])))\n",
    "\n",
    "-- or using list comprehension (imho less readable)\n",
    "sum (takeWhile (<10000) [ m | m <- [ n^2 | n <- [1..] ], odd m])"
   ]
  },
  {
   "cell_type": "markdown",
   "metadata": {
    "nteract": {
     "transient": {
      "deleting": false
     }
    }
   },
   "source": [
    "What makes this possible ? Haskell's property of laziness !:\n",
    "- we can `map` over and `filter` an infinite list, because it won't actually `map` and `filter` it right away; it will delay those actions\n",
    "- only when we force Haskell to show us the sum, the `sum` function say to the `takeWhile` that it needs those numbers\n",
    "- `takeWhile` forces the `filter`ing and `map`ping to occur, but only until a number greater than or equal to 10,000 is encountered\n"
   ]
  },
  {
   "cell_type": "markdown",
   "metadata": {
    "nteract": {
     "transient": {
      "deleting": false
     }
    }
   },
   "source": [
    "**for all starting numbers between 1 and 100, how many Collatz chains have a length greater than 15 ?**\n",
    "\n",
    "NOTE: Collatz chain always finishes at the number 1, for all starting numbers\n"
   ]
  },
  {
   "cell_type": "code",
   "execution_count": 19,
   "metadata": {
    "jupyter": {
     "outputs_hidden": false,
     "source_hidden": false
    },
    "nteract": {
     "transient": {
      "deleting": false
     }
    },
    "outputExpanded": false
   },
   "outputs": [
    {
     "data": {
      "text/plain": [
       "[10,5,16,8,4,2,1]"
      ]
     },
     "metadata": {},
     "output_type": "display_data"
    },
    {
     "data": {
      "text/plain": [
       "66"
      ]
     },
     "metadata": {},
     "output_type": "display_data"
    }
   ],
   "source": [
    "chain :: (Integral a) => a -> [a]\n",
    "chain 1 = [1]\n",
    "chain n\n",
    "  | even n = n : chain (n `div` 2)\n",
    "  | odd n  = n : chain (n * 3 + 1)\n",
    "\n",
    "chain 10\n",
    "\n",
    "length (filter (>15) (map length (map chain [1..100])))"
   ]
  },
  {
   "cell_type": "markdown",
   "metadata": {
    "nteract": {
     "transient": {
      "deleting": false
     }
    }
   },
   "source": [
    "more higher-order function: `map (*) [0..]`\n",
    "- c.f.: so far, we've only mapped functions that take one parameter over lists: e.g.: `map (*2) [0..]`\n",
    "- what happens here: the number in the list is applied to the function `*`, which has a type of `(Num a) => a -> a -> a`\n",
    "  * applying only one parameter to a function that takes two parameters returns a partially applied function, which takes one parameter\n",
    "  * so we get back _a list of functions_ that only take one parameter, so `(Num a) => [a -> a]`\n",
    "    + `map (*) [0..]` produces a list like `[(*0), (*1), ...]`\n"
   ]
  },
  {
   "cell_type": "code",
   "execution_count": 20,
   "metadata": {
    "jupyter": {
     "outputs_hidden": false,
     "source_hidden": false
    },
    "nteract": {
     "transient": {
      "deleting": false
     }
    },
    "outputExpanded": false
   },
   "outputs": [
    {
     "data": {
      "text/plain": [
       "10"
      ]
     },
     "metadata": {},
     "output_type": "display_data"
    }
   ],
   "source": [
    "let listOfFuns = map (*) [0..] in (listOfFuns !! 5) 2"
   ]
  },
  {
   "cell_type": "markdown",
   "metadata": {
    "nteract": {
     "transient": {
      "deleting": false
     }
    }
   },
   "source": [
    "## Lambdas\n",
    "\n",
    "Lambdas: anonymous functions that are used because we need some functions only once; normally passed into a higher-order function\n"
   ]
  },
  {
   "cell_type": "code",
   "execution_count": 21,
   "metadata": {
    "jupyter": {
     "outputs_hidden": false,
     "source_hidden": false
    },
    "nteract": {
     "transient": {
      "deleting": false
     }
    },
    "outputExpanded": false
   },
   "outputs": [
    {
     "data": {
      "text/plain": [
       "[153.0,61.5,31.0,15.75,6.6]"
      ]
     },
     "metadata": {},
     "output_type": "display_data"
    },
    {
     "data": {
      "text/plain": [
       "[1,2,3,4,5,6,7,8,9,10]"
      ]
     },
     "metadata": {},
     "output_type": "display_data"
    },
    {
     "data": {
      "text/plain": [
       "[1,2,3,4,5,6,7,8,9,10]"
      ]
     },
     "metadata": {},
     "output_type": "display_data"
    },
    {
     "data": {
      "text/plain": [
       "[3,8,9,8]"
      ]
     },
     "metadata": {},
     "output_type": "display_data"
    },
    {
     "data": {
      "text/plain": [
       "\"shuheikadowaki\""
      ]
     },
     "metadata": {},
     "output_type": "display_data"
    }
   ],
   "source": [
    "-- syntax: `(\\args -> body)`\n",
    "zipWith (\\a b -> (a * 30 + 3) / b) [5,4..1] [1..5]\n",
    "\n",
    "-- caveat: don't abuse lambdas; using partial functions can lead to more readable code\n",
    "map (+1) [0..9]\n",
    "map (\\x -> x + 1) [0..9]\n",
    "\n",
    "-- pattern match: cant defined fall back definition !\n",
    "map (\\(a,b) -> a + b) [(1,2),(3,5),(6,3),(2,6)]\n",
    "\n",
    "-- -- without parentheses, they extend all the way to the right\n",
    "addThree :: (Num a) => a -> a -> a -> a\n",
    "addThree x y z = x + y + z\n",
    "\n",
    "-- addThree :: (Num a) => a -> a -> a -> a\n",
    "-- addThree = \\x -> \\y -> \\z -> x + y + z\n",
    "\n",
    "-- more \"sensible\" `flip'` definition: it would be clearer that `flip'` is used for producing a new function most of the time\n",
    "flip' :: (a -> b -> c) -> b -> a -> c\n",
    "flip' f = \\x y -> f y x\n",
    "\n",
    "flip' (++) \"kadowaki\" \"shuhei\""
   ]
  },
  {
   "cell_type": "markdown",
   "metadata": {
    "nteract": {
     "transient": {
      "deleting": false
     }
    }
   },
   "source": [
    "## `fold`s\n",
    "\n",
    "`fold` encapsulate the common pattern of the recursive functions on lists:\n",
    "- have an edge case for the empty list\n",
    "- introduce `x:xs` pattern and then do some action that involves a signle element and the rest of the list\n",
    "\n",
    "> Folds can be used to implement any function where you traverse a list once, element by element, and then return something based on that. Whenever you want to traverse a list to return something, chances are you want a `fold`.\n"
   ]
  },
  {
   "cell_type": "markdown",
   "metadata": {
    "nteract": {
     "transient": {
      "deleting": false
     }
    }
   },
   "source": [
    "`foldl f acc xs`\n",
    "- `f acc x`: binary function: produces a new accumulator from the current accumulator `acc` and the current list head `x`\n",
    "- `acc`: a starting value, a.k.a. accumulator\n",
    "- `list`: list to fold up\n"
   ]
  },
  {
   "cell_type": "code",
   "execution_count": 22,
   "metadata": {
    "jupyter": {
     "outputs_hidden": false,
     "source_hidden": false
    },
    "nteract": {
     "transient": {
      "deleting": false
     }
    },
    "outputExpanded": false
   },
   "outputs": [
    {
     "data": {
      "text/plain": [
       "55"
      ]
     },
     "metadata": {},
     "output_type": "display_data"
    }
   ],
   "source": [
    "sum' :: (Num a) => [a] -> a\n",
    "sum' xs = foldl (\\acc x -> acc + x) 0 xs\n",
    "\n",
    "sum' [1..10]"
   ]
  },
  {
   "cell_type": "code",
   "execution_count": 23,
   "metadata": {
    "jupyter": {
     "outputs_hidden": false,
     "source_hidden": false
    },
    "nteract": {
     "transient": {
      "deleting": false
     }
    },
    "outputExpanded": false
   },
   "outputs": [
    {
     "data": {
      "text/plain": [
       "55"
      ]
     },
     "metadata": {},
     "output_type": "display_data"
    }
   ],
   "source": [
    "-- even more succinctly\n",
    "sum' :: (Num a) => [a] -> a\n",
    "sum' = foldl (+) 0 -- carrying !\n",
    "\n",
    "sum' [1..10]"
   ]
  },
  {
   "cell_type": "code",
   "execution_count": 24,
   "metadata": {
    "jupyter": {
     "outputs_hidden": false,
     "source_hidden": false
    },
    "nteract": {
     "transient": {
      "deleting": false
     }
    },
    "outputExpanded": false
   },
   "outputs": [
    {
     "data": {
      "text/plain": [
       "True"
      ]
     },
     "metadata": {},
     "output_type": "display_data"
    }
   ],
   "source": [
    "elem' :: (Eq a) => a -> [a] -> Bool\n",
    "elem' y ys = foldl (\\acc x -> if x == y then True else acc) False ys\n",
    "\n",
    "elem' 1 [0..10]\n",
    "-- elem' 1 [0..] -- TODO"
   ]
  },
  {
   "cell_type": "markdown",
   "metadata": {
    "nteract": {
     "transient": {
      "deleting": false
     }
    }
   },
   "source": [
    "`foldr f acc xs`\n",
    "- `f x acc`: binary function: produces a new accumulator from the current accumulator `acc` and the current list head `x`\n",
    "- `acc`: a starting value, a.k.a. accumulator\n",
    "- `list`: list to fold up\n"
   ]
  },
  {
   "cell_type": "code",
   "execution_count": 25,
   "metadata": {
    "jupyter": {
     "outputs_hidden": false,
     "source_hidden": false
    },
    "nteract": {
     "transient": {
      "deleting": false
     }
    },
    "outputExpanded": false
   },
   "outputs": [
    {
     "data": {
      "text/plain": [
       "[1,2,3,4,5,6,7,8,9,10]"
      ]
     },
     "metadata": {},
     "output_type": "display_data"
    }
   ],
   "source": [
    "map' :: (a -> b) -> [a] -> [b]\n",
    "map' f xs = foldr (\\x acc -> f x : acc) [] xs\n",
    "-- map' f xs = foldl (\\acc x -> acc ++ [f x]) [] xs -- NOTE: `++` is much more expensive than `:`\n",
    "\n",
    "map' (+1) [0..9]"
   ]
  },
  {
   "cell_type": "markdown",
   "metadata": {
    "nteract": {
     "transient": {
      "deleting": false
     }
    }
   },
   "source": [
    "big difference:\n",
    "- `foldr` can work on infinite lists, i.e. take an infinite list _at some point_ should work with `foldr`\n",
    "- `foldl` can't on infinite lists\n"
   ]
  },
  {
   "cell_type": "markdown",
   "metadata": {
    "nteract": {
     "transient": {
      "deleting": false
     }
    }
   },
   "source": [
    "`foldl1`, `foldr1`:\n",
    "- don't require an explicit starting value\n",
    "- can be used when a function doesn't make sense given an empty list\n"
   ]
  },
  {
   "cell_type": "code",
   "execution_count": 26,
   "metadata": {
    "jupyter": {
     "outputs_hidden": false,
     "source_hidden": false
    },
    "nteract": {
     "transient": {
      "deleting": false
     }
    },
    "outputExpanded": false
   },
   "outputs": [],
   "source": [
    "maximum' :: (Ord a) => [a] -> a\n",
    "maximum' = foldr1 (\\x acc -> if x > acc then x else acc)\n",
    "\n",
    "reverse' :: [a] -> [a]\n",
    "reverse' = foldl (\\acc x -> x : acc) [] -- or `foldl (flip (:)) []`\n",
    "\n",
    "product' :: (Num a) => [a] -> a\n",
    "product' = foldr1 (*)\n",
    "\n",
    "filter' :: (a -> Bool) -> [a] -> [a]\n",
    "filter' p = foldr (\\x acc -> if p x then x : acc else acc) []\n",
    "\n",
    "head' :: [a] -> a\n",
    "head' = foldr1 (\\x _ -> x)\n",
    "\n",
    "last' :: [a] -> a\n",
    "last' = foldr1 (\\_ x -> x)"
   ]
  },
  {
   "cell_type": "markdown",
   "metadata": {
    "nteract": {
     "transient": {
      "deleting": false
     }
    }
   },
   "source": [
    "`scanl`, `scanr`, `scanl1`, `scanr1`: report all the intermediate accumulator states in the form of a list\n"
   ]
  },
  {
   "cell_type": "code",
   "execution_count": 27,
   "metadata": {
    "jupyter": {
     "outputs_hidden": false,
     "source_hidden": false
    },
    "nteract": {
     "transient": {
      "deleting": false
     }
    },
    "outputExpanded": false
   },
   "outputs": [
    {
     "data": {
      "text/plain": [
       "[0,1,3,6,10,15,21,28,36,45,55]"
      ]
     },
     "metadata": {},
     "output_type": "display_data"
    },
    {
     "data": {
      "text/plain": [
       "[55,54,52,49,45,40,34,27,19,10,0]"
      ]
     },
     "metadata": {},
     "output_type": "display_data"
    },
    {
     "data": {
      "text/plain": [
       "[3,4,5,5,7,9,9,9]"
      ]
     },
     "metadata": {},
     "output_type": "display_data"
    },
    {
     "data": {
      "text/plain": [
       "[[],[3],[2,3],[1,2,3]]"
      ]
     },
     "metadata": {},
     "output_type": "display_data"
    }
   ],
   "source": [
    "scanl (+) 0 [1..10]\n",
    "scanr (+) 0 [1..10]\n",
    "scanl1 (\\acc x -> if x > acc then x else acc) [3,4,5,3,7,9,2,1]\n",
    "scanl (flip (:)) [] [3,2..1]"
   ]
  },
  {
   "cell_type": "markdown",
   "metadata": {
    "nteract": {
     "transient": {
      "deleting": false
     }
    }
   },
   "source": [
    "**How many elements does it take for the sum of the roots of all natural numbers to exceed 1000 ?**\n"
   ]
  },
  {
   "cell_type": "code",
   "execution_count": 28,
   "metadata": {
    "jupyter": {
     "outputs_hidden": false,
     "source_hidden": false
    },
    "nteract": {
     "transient": {
      "deleting": false
     }
    },
    "outputExpanded": false
   },
   "outputs": [
    {
     "data": {
      "text/plain": [
       "993.6486803921487"
      ]
     },
     "metadata": {},
     "output_type": "display_data"
    },
    {
     "data": {
      "text/plain": [
       "1005.0942035344083"
      ]
     },
     "metadata": {},
     "output_type": "display_data"
    }
   ],
   "source": [
    "sqrtSum = length (takeWhile (<1000) (scanl1 (+) (map sqrt [1..])))\n",
    "sum (map sqrt [1..130])\n",
    "sum (map sqrt [1..131])"
   ]
  },
  {
   "cell_type": "markdown",
   "metadata": {
    "nteract": {
     "transient": {
      "deleting": false
     }
    }
   },
   "source": [
    "## Function application with `$`\n",
    "\n",
    "```haskell\n",
    "($) :: (a -> b) -> a -> b\n",
    "f $ x = f x\n",
    "```\n",
    "- normal function application (putting a space between two things): high precedence, left-associative\n",
    "- `$` function: lowest precedence, right-associative\n",
    "\n",
    "So, how this seemingly useless operator can be useful ?:\n",
    "- we don't have to write so many parentheses !\n",
    "  * `sum (map sqrt [1..130])` ⟺ `sum $ map sqrt [1..130]`\n",
    "  * `sqrt (3 + 4 + 9)` ⟺ `sqrt $ 3 + 4 + 9`\n",
    "  * `sum (filter (>10) (map (*2) [2..10]))` ⟺ `sum $ filter (>10) $ map (*2) [2..10]`\n",
    "- the function application can be treated just like another function\n",
    "  * e.g. map function application _over a list of functions_: `map ($ 3) [(4+), (10*), (^2), sqrt]`\n"
   ]
  },
  {
   "cell_type": "code",
   "execution_count": 29,
   "metadata": {
    "jupyter": {
     "outputs_hidden": false,
     "source_hidden": false
    },
    "nteract": {
     "transient": {
      "deleting": false
     }
    },
    "outputExpanded": false
   },
   "outputs": [
    {
     "data": {
      "text/plain": [
       "80"
      ]
     },
     "metadata": {},
     "output_type": "display_data"
    },
    {
     "data": {
      "text/plain": [
       "[7.0,30.0,9.0,1.7320508075688772]"
      ]
     },
     "metadata": {},
     "output_type": "display_data"
    }
   ],
   "source": [
    "sum $ filter (>10) $ map (*2) [2..10]\n",
    "map ($ 3) [(4+), (10*), (^2), sqrt]"
   ]
  },
  {
   "cell_type": "markdown",
   "metadata": {
    "nteract": {
     "transient": {
      "deleting": false
     }
    }
   },
   "source": [
    "## Function composition\n",
    "\n",
    "$(f \\circ g)(x) = f(g(x))$:\n",
    "```haskell\n",
    "(.) :: (b -> c) -> (a -> b) -> a -> c\n",
    "f . g = \\x -> f (g x)\n",
    "```\n",
    "\n",
    "NOTE: function composition can make functions on the fly as lambdas do, but many times, is clearer and more concise\n"
   ]
  },
  {
   "cell_type": "code",
   "execution_count": 30,
   "metadata": {
    "jupyter": {
     "outputs_hidden": false,
     "source_hidden": false
    },
    "nteract": {
     "transient": {
      "deleting": false
     }
    },
    "outputExpanded": false
   },
   "outputs": [
    {
     "data": {
      "text/plain": [
       "[-5,-3,-6,-7,-3,-2,-19,-24]"
      ]
     },
     "metadata": {},
     "output_type": "display_data"
    },
    {
     "data": {
      "text/plain": [
       "[-5,-3,-6,-7,-3,-2,-19,-24]"
      ]
     },
     "metadata": {},
     "output_type": "display_data"
    }
   ],
   "source": [
    "map (\\x -> negate (abs x)) [5,-3,-6,7,-3,2,-19,24]\n",
    "map (negate . abs) [5,-3,-6,7,-3,2,-19,24]"
   ]
  },
  {
   "cell_type": "markdown",
   "metadata": {
    "nteract": {
     "transient": {
      "deleting": false
     }
    }
   },
   "source": [
    "Function composition is right-associative\n"
   ]
  },
  {
   "cell_type": "code",
   "execution_count": 31,
   "metadata": {
    "jupyter": {
     "outputs_hidden": false,
     "source_hidden": false
    },
    "nteract": {
     "transient": {
      "deleting": false
     }
    },
    "outputExpanded": false
   },
   "outputs": [
    {
     "data": {
      "text/plain": [
       "[-14,-15,-27]"
      ]
     },
     "metadata": {},
     "output_type": "display_data"
    },
    {
     "data": {
      "text/plain": [
       "[-14,-15,-27]"
      ]
     },
     "metadata": {},
     "output_type": "display_data"
    }
   ],
   "source": [
    "map (\\xs -> negate (sum (tail xs))) [[1..5], [3..6], [1..7]]\n",
    "map (negate . sum . tail) [[1..5], [3..6], [1..7]]"
   ]
  },
  {
   "cell_type": "markdown",
   "metadata": {
    "nteract": {
     "transient": {
      "deleting": false
     }
    }
   },
   "source": [
    "When functions take several parameters: we usually have to partially apply them just so much that each function takes just one parameter\n",
    "- the expressions below are all equivalent:\n",
    "  * `sum (replicate 5 (max 6.7 8.9))`\n",
    "  * `(sum . replicate 5 . max 6.7) 8.9`\n",
    "  * `sum . replicate 5 . max 6.7 $ 8.9`"
   ]
  },
  {
   "cell_type": "code",
   "execution_count": 32,
   "metadata": {
    "jupyter": {
     "outputs_hidden": false,
     "source_hidden": false
    },
    "nteract": {
     "transient": {
      "deleting": false
     }
    },
    "outputExpanded": false
   },
   "outputs": [
    {
     "data": {
      "text/plain": [
       "[7348320,7348320,7348320]"
      ]
     },
     "metadata": {},
     "output_type": "display_data"
    },
    {
     "data": {
      "text/plain": [
       "[7348320,7348320,7348320]"
      ]
     },
     "metadata": {},
     "output_type": "display_data"
    }
   ],
   "source": [
    "replicate 3 (product (map (*3) (zipWith max [1..5] [6..10])))\n",
    "replicate 3 . product . map (*3) . zipWith max [1..5] $ [6..10]"
   ]
  },
  {
   "cell_type": "markdown",
   "metadata": {
    "nteract": {
     "transient": {
      "deleting": false
     }
    }
   },
   "source": [
    "\"point free style\" (or \"pointless style\") function definition:\n",
    "```haskell\n",
    "sum' :: (Num a) => [a] -> a\n",
    "sum' - foldr (+) 0 -- no `xs` on both side\n",
    "```\n",
    "\n",
    "```haskell\n",
    "fn x = ceiling (negate (tan (cos (max 50 x))))\n",
    "```\n",
    "can be defined\n",
    "```haskell\n",
    "fn = ceiling . negate . tan . cos . max 50\n",
    "```\n",
    "\n",
    "caveat: a huge composition chain can be less readable, which compositing a long chain can be happy for programmers ...\n",
    "- `oddSquareSum = sum (takeWhile (<10000) (filter odd (map (^2) [1..])))`: agh ...\n",
    "- `oddSquareSum = sum . takeWhile (<10000) . filter odd . map (^2) $ [1..]`: another agh ...\n",
    "- ⟹ use `let` (when there's a chance of someone else reading this)\n"
   ]
  },
  {
   "cell_type": "code",
   "execution_count": 33,
   "metadata": {
    "jupyter": {
     "outputs_hidden": false,
     "source_hidden": false
    },
    "nteract": {
     "transient": {
      "deleting": false
     }
    },
    "outputExpanded": false
   },
   "outputs": [],
   "source": [
    "oddSquareSum =\n",
    "  let oddSquares = filter odd $ map (^2) [1..]\n",
    "      belowLimit = takeWhile (<10000) oddSquares\n",
    "  in sum belowLimit"
   ]
  }
 ],
 "metadata": {
  "kernelspec": {
   "display_name": "Haskell",
   "language": "haskell",
   "name": "haskell"
  },
  "language_info": {
   "codemirror_mode": "ihaskell",
   "file_extension": ".hs",
   "name": "haskell",
   "pygments_lexer": "Haskell",
   "version": "8.6.5"
  }
 },
 "nbformat": 4,
 "nbformat_minor": 1
}
