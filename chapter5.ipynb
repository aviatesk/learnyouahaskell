{
 "cells": [
  {
   "cell_type": "markdown",
   "metadata": {
    "nteract": {
     "transient": {
      "deleting": false
     }
    }
   },
   "source": [
    "# Chapter 5 -- Recursion\n"
   ]
  },
  {
   "cell_type": "markdown",
   "metadata": {
    "nteract": {
     "transient": {
      "deleting": false
     }
    }
   },
   "source": [
    "Recursion: a way of defining functions in which the function is applied inside its own definition\n",
    "\n",
    "**edge condition**: an element or two in a recursion definition defined non-recursively\n",
    "- important if we want our recursive function to terminate\n",
    "\n",
    "Why recursion is important to Haskell ?\n",
    "> unlike imperative languages, we do computations in Haskell by declaring what something _is_ instead of declaring _how_ we get it.\n",
    "> That's why there are no `while` loops or `for` loops in Haskell and instead we many times have to use recursion to declare what something is."
   ]
  },
  {
   "cell_type": "markdown",
   "metadata": {
    "nteract": {
     "transient": {
      "deleting": false
     }
    }
   },
   "source": [
    "`maximum`"
   ]
  },
  {
   "cell_type": "code",
   "execution_count": 1,
   "metadata": {
    "jupyter": {
     "outputs_hidden": false,
     "source_hidden": false
    },
    "nteract": {
     "transient": {
      "deleting": false
     }
    }
   },
   "outputs": [
    {
     "data": {
      "text/plain": [
       "5"
      ]
     },
     "metadata": {},
     "output_type": "display_data"
    }
   ],
   "source": [
    "-- beautiful ...\n",
    "maximum' :: (Ord a) => [a] -> a\n",
    "maximum' [] = error \"no maximum of empty list\"\n",
    "maximum' [x] = x\n",
    "maximum' (x:xs)\n",
    "  | x > maxTail = x\n",
    "  | otherwise   = maxTail\n",
    "  where maxTail = maximum' xs\n",
    "\n",
    "maximum' [2, 5, 1]"
   ]
  },
  {
   "cell_type": "code",
   "execution_count": 2,
   "metadata": {
    "jupyter": {
     "outputs_hidden": false,
     "source_hidden": false
    },
    "nteract": {
     "transient": {
      "deleting": false
     }
    }
   },
   "outputs": [
    {
     "data": {
      "text/plain": [
       "5"
      ]
     },
     "metadata": {},
     "output_type": "display_data"
    }
   ],
   "source": [
    "-- yet more elegant ...\n",
    "maximum' :: (Ord a) => [a] -> a\n",
    "maximum' [] = error \"no maximum of empty list\"\n",
    "maximum' [x] = x\n",
    "maximum' (x:xs) = max x (maximum' xs)\n",
    "\n",
    "maximum' [2, 5, 1]"
   ]
  },
  {
   "cell_type": "markdown",
   "metadata": {
    "nteract": {
     "transient": {
      "deleting": false
     }
    }
   },
   "source": [
    "`replicate`"
   ]
  },
  {
   "cell_type": "code",
   "execution_count": 3,
   "metadata": {
    "jupyter": {
     "outputs_hidden": false,
     "source_hidden": false
    },
    "nteract": {
     "transient": {
      "deleting": false
     }
    }
   },
   "outputs": [
    {
     "data": {
      "text/plain": [
       "[5,5,5]"
      ]
     },
     "metadata": {},
     "output_type": "display_data"
    }
   ],
   "source": [
    "replicate' :: (Num t, Ord t) => t -> a -> [a]\n",
    "replicate' n x\n",
    "  | n <= 0    = []\n",
    "  | otherwise = x:replicate' (n-1) x\n",
    "\n",
    "replicate' 3 5"
   ]
  },
  {
   "cell_type": "markdown",
   "metadata": {
    "nteract": {
     "transient": {
      "deleting": false
     }
    }
   },
   "source": [
    "NOTE:\n",
    "`Num` is not a subclass of `Ord`. That means that what constitutes for a number doesn't really have to adhere to an ordering.\n",
    "So that's why we have to specify both the `Num` and `Ord` class constraints when doing addition or subtractions and also comparison."
   ]
  },
  {
   "cell_type": "markdown",
   "metadata": {
    "nteract": {
     "transient": {
      "deleting": false
     }
    }
   },
   "source": [
    "`take`:\n",
    "- `take 3 [5,4..1]` will return `[5,4,3]`\n",
    "- two edge cases:\n",
    "  * when trying to `take` 0 or less elements from a list\n",
    "  * when trying to take anything from an empty list"
   ]
  },
  {
   "cell_type": "code",
   "execution_count": 4,
   "metadata": {
    "jupyter": {
     "outputs_hidden": false,
     "source_hidden": false
    },
    "nteract": {
     "transient": {
      "deleting": false
     }
    }
   },
   "outputs": [
    {
     "data": {
      "text/plain": [
       "[5,4,3]"
      ]
     },
     "metadata": {},
     "output_type": "display_data"
    }
   ],
   "source": [
    "take' :: (Num t, Ord t) => t -> [a] -> [a]\n",
    "take' n _\n",
    "  | n <= 0     = [] -- NOTE: otherwise fall through to the next pattern\n",
    "take' _ []     = []\n",
    "take' n (x:xs) = x : take' (n-1) xs\n",
    "\n",
    "take' 3 [5,4..1]"
   ]
  },
  {
   "cell_type": "markdown",
   "metadata": {
    "nteract": {
     "transient": {
      "deleting": false
     }
    }
   },
   "source": [
    "- the first pattern handles when we try to take a 0 or negative number of elements (edge case)\n",
    "  * NOTE: we're using `_` to match the list because we don't really care what it is in this case\n",
    "  * NOTE: we use a guard, but without an `otherwise` part, meaning that **if `n` turns out to be more than 0, the matching will fall through to the next pattern**\n",
    "- the second pattern handles when we try to take anything from an empty list (edge case)\n",
    "- the third pattern handles general cases"
   ]
  },
  {
   "cell_type": "markdown",
   "metadata": {
    "nteract": {
     "transient": {
      "deleting": false
     }
    }
   },
   "source": [
    "`reverse`"
   ]
  },
  {
   "cell_type": "code",
   "execution_count": 5,
   "metadata": {
    "jupyter": {
     "outputs_hidden": false,
     "source_hidden": false
    },
    "nteract": {
     "transient": {
      "deleting": false
     }
    }
   },
   "outputs": [
    {
     "data": {
      "text/plain": [
       "[10,9,8,7,6,5,4,3,2,1]"
      ]
     },
     "metadata": {},
     "output_type": "display_data"
    }
   ],
   "source": [
    "reverse' :: [a] -> [a]\n",
    "reverse' []     = []\n",
    "reverse' (x:xs) = reverse' xs ++ [x]\n",
    "\n",
    "reverse' [1..10]"
   ]
  },
  {
   "cell_type": "markdown",
   "metadata": {
    "nteract": {
     "transient": {
      "deleting": false
     }
    }
   },
   "source": [
    "`repeat`\n",
    "\n",
    "Because Haskell supports infinite lists, our recursion doesn't really have to have an edge condition:\n",
    "- `repeat` can be implemented really easily\n",
    "- we can cut infinite lists where we want"
   ]
  },
  {
   "cell_type": "code",
   "execution_count": 6,
   "metadata": {
    "jupyter": {
     "outputs_hidden": false,
     "source_hidden": false
    },
    "nteract": {
     "transient": {
      "deleting": false
     }
    }
   },
   "outputs": [
    {
     "data": {
      "text/plain": [
       "[3,3,3,3,3]"
      ]
     },
     "metadata": {},
     "output_type": "display_data"
    }
   ],
   "source": [
    "repeat' :: a -> [a]\n",
    "repeat' x = x : repeat x\n",
    "\n",
    "take 5 (repeat' 3) -- essentially same as `replicate 5 3`"
   ]
  },
  {
   "cell_type": "markdown",
   "metadata": {
    "nteract": {
     "transient": {
      "deleting": false
     }
    }
   },
   "source": [
    "`zip`"
   ]
  },
  {
   "cell_type": "code",
   "execution_count": 7,
   "metadata": {
    "jupyter": {
     "outputs_hidden": false,
     "source_hidden": false
    },
    "nteract": {
     "transient": {
      "deleting": false
     }
    }
   },
   "outputs": [
    {
     "data": {
      "text/plain": [
       "[(1,'a'),(2,'b'),(3,'c'),(4,'d'),(5,'e'),(6,'f'),(7,'g'),(8,'h'),(9,'i'),(10,'j')]"
      ]
     },
     "metadata": {},
     "output_type": "display_data"
    },
    {
     "data": {
      "text/plain": [
       "[(1,'a'),(2,'b'),(3,'c'),(4,'d'),(5,'e'),(6,'f'),(7,'g'),(8,'h'),(9,'i'),(10,'j')]"
      ]
     },
     "metadata": {},
     "output_type": "display_data"
    }
   ],
   "source": [
    "-- NOTE: there're two edge conditions !\n",
    "zip' :: [a] -> [b] -> [(a,b)]\n",
    "zip' _ []          = []\n",
    "zip' [] _          = []\n",
    "zip' (x:xs) (y:ys) = (x,y) : zip' xs ys\n",
    "\n",
    "zip' [1..10] ['a'..'j']\n",
    "zip' [1..10] ['a'..'z']"
   ]
  },
  {
   "cell_type": "markdown",
   "metadata": {
    "nteract": {
     "transient": {
      "deleting": false
     }
    }
   },
   "source": [
    "`elem`"
   ]
  },
  {
   "cell_type": "code",
   "execution_count": 8,
   "metadata": {
    "jupyter": {
     "outputs_hidden": false,
     "source_hidden": false
    },
    "nteract": {
     "transient": {
      "deleting": false
     }
    }
   },
   "outputs": [
    {
     "data": {
      "text/plain": [
       "True"
      ]
     },
     "metadata": {},
     "output_type": "display_data"
    }
   ],
   "source": [
    "elem' :: (Eq a) => a -> [a] -> Bool\n",
    "elem' a [] = False\n",
    "elem' a (x:xs)\n",
    "  | a == x    = True\n",
    "  | otherwise = a `elem'` xs\n",
    "\n",
    "'s' `elem'` ['a'..'z']"
   ]
  },
  {
   "cell_type": "markdown",
   "metadata": {
    "nteract": {
     "transient": {
      "deleting": false
     }
    }
   },
   "source": [
    "Quick Sort !\n",
    "\n",
    "> Quicksort has become a sort of poster child for Haskell. ... even though implementing quicksort in Haskell is considered really cheesy because everyone does it to showcase how elegant Haskell is.\n",
    "\n",
    "- edge case: empty list (again ! a sorted empty list is an empty list)\n",
    "- a sorted list **is** a list that has all the values smaller than (or equal to) the head of the list in front (and those values are **sorted**), then comes the head of the list in the middle and then come all the values that are bigger than the head (they're also **sorted**)\n",
    "  * \"sorted\" appears two times in the definition: we'll probably have to make the recursive call twice !\n",
    "  * the algorithm is defined using the verb \"is\", instead of saying \"do this, do that, then do that ...\"; the beauty of functional programming !\n",
    "\n",
    "NOTE:\n",
    "The algorithm below is a quicksort with a deterministic pivot; we choose the head `x` because it's easy to get by pattern matching."
   ]
  },
  {
   "cell_type": "code",
   "execution_count": 9,
   "metadata": {
    "jupyter": {
     "outputs_hidden": false,
     "source_hidden": false
    },
    "nteract": {
     "transient": {
      "deleting": false
     }
    }
   },
   "outputs": [
    {
     "data": {
      "text/plain": [
       "[1,2,2,3,3,4,4,5,6,7,8,9,10]"
      ]
     },
     "metadata": {},
     "output_type": "display_data"
    },
    {
     "data": {
      "text/plain": [
       "\"        .abcdeeefghhijklmnoooopqrrsttuuvwxyz\""
      ]
     },
     "metadata": {},
     "output_type": "display_data"
    }
   ],
   "source": [
    "quicksort :: (Ord a) => [a] -> [a]\n",
    "quicksort []     = [] -- an empty list is already sorted in a way, by virtue of being empty\n",
    "quicksort (x:xs) =\n",
    "  smallerSorted ++ [x] ++ biggerSorted\n",
    "  where smallerSorted = quicksort [ a | a <- xs, a <= x ]\n",
    "        biggerSorted  = quicksort [ a | a <- xs, a > x ]\n",
    "\n",
    "quicksort [10,2,5,3,1,6,7,4,2,3,4,8,9]\n",
    "quicksort \"the quick brown fox jumps over the lazy dog.\""
   ]
  },
  {
   "cell_type": "markdown",
   "metadata": {
    "nteract": {
     "transient": {
      "deleting": false
     }
    }
   },
   "source": [
    "## Thinking Recursively\n",
    "\n",
    "Recursion pattern: defined an edge case and then define a function that does something between some element and the function applied to the rest:\n",
    "- edge case: some scenario where a recursive application doesn't make sense\n",
    "  * **Often the edge case value turns out to be an identity**:\n",
    "    + e.g.: the identity of multiplication is 1: multiply something by 1, we get that something (identity) back\n",
    "    + e.g.: in quicksort, the identity is the empty list: if we add an empty list to a list, we just get the original back\n",
    "  * e.g.: when dealing with lists, it is most often the empty list\n",
    "  * e.g.: when dealing with trees, it is usually a node that doesn't have any children\n",
    "- when trying to think about a recursive way to solve a problem, try to think of when a recursive solution doesn7t apply and see if we can use that as an edge case, think about identities and think about whether we'll break apart the parameters of the function and on which part we'll use the recursive call"
   ]
  }
 ],
 "metadata": {
  "kernelspec": {
   "display_name": "Haskell",
   "language": "haskell",
   "name": "haskell"
  },
  "language_info": {
   "codemirror_mode": "ihaskell",
   "file_extension": ".hs",
   "name": "haskell",
   "pygments_lexer": "Haskell",
   "version": "8.6.5"
  }
 },
 "nbformat": 4,
 "nbformat_minor": 1
}
