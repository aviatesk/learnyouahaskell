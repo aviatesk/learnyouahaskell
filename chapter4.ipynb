{
 "cells": [
  {
   "cell_type": "markdown",
   "metadata": {
    "nteract": {
     "transient": {
      "deleting": false
     }
    }
   },
   "source": [
    "# Chapter 4 -- Syntax in Functions\n"
   ]
  },
  {
   "cell_type": "code",
   "execution_count": 1,
   "metadata": {
    "jupyter": {
     "outputs_hidden": false,
     "source_hidden": false
    },
    "nteract": {
     "transient": {
      "deleting": false
     }
    }
   },
   "outputs": [],
   "source": [
    "-- IHaskell settings\n",
    ":opt no-lint\n",
    ":opt no-pager"
   ]
  },
  {
   "cell_type": "markdown",
   "metadata": {
    "nteract": {
     "transient": {
      "deleting": false
     }
    }
   },
   "source": [
    "## Pattern Matching\n",
    "Pattern matching consists of:\n",
    "- specifying patterns to which some data should _conform_\n",
    "- checking to see if it does\n",
    "- deconstructing the data according to those patterns\n",
    "\n",
    "When defining functions, we can define separate function bodies for different patterns.\n",
    "This appears to be like the Julia dispatch on different type objects but Haskell can pattern match on _any_ data type – numbers, characters, lists, tuples, etc."
   ]
  },
  {
   "cell_type": "code",
   "execution_count": 2,
   "metadata": {
    "jupyter": {
     "outputs_hidden": false,
     "source_hidden": false
    },
    "nteract": {
     "transient": {
      "deleting": false
     }
    }
   },
   "outputs": [
    {
     "data": {
      "text/plain": [
       "\"Lucky number seven !\""
      ]
     },
     "metadata": {},
     "output_type": "display_data"
    },
    {
     "data": {
      "text/plain": [
       "\"You're out of luck, pal !\""
      ]
     },
     "metadata": {},
     "output_type": "display_data"
    }
   ],
   "source": [
    "lucky :: (Integral a) => a -> String\n",
    "lucky 7 = \"Lucky number seven !\"\n",
    "lucky x = \"You're out of luck, pal !\"\n",
    "\n",
    "lucky 7\n",
    "lucky 10"
   ]
  },
  {
   "cell_type": "markdown",
   "metadata": {
    "nteract": {
     "transient": {
      "deleting": false
     }
    }
   },
   "source": [
    "Note that patterns will be check from top to bottom and when it conforms to a pattern, the corresponding function body will be used.\n",
    "So if we move the second function body up, it will catch all the numbers and they won't have a chance to fall through and be checked for the first pattern."
   ]
  },
  {
   "cell_type": "code",
   "execution_count": 3,
   "metadata": {
    "jupyter": {
     "outputs_hidden": false,
     "source_hidden": false
    },
    "nteract": {
     "transient": {
      "deleting": false
     }
    }
   },
   "outputs": [
    {
     "data": {
      "text/plain": [
       "\"You're out of luck, pal !\""
      ]
     },
     "metadata": {},
     "output_type": "display_data"
    },
    {
     "data": {
      "text/plain": [
       "\"You're out of luck, pal !\""
      ]
     },
     "metadata": {},
     "output_type": "display_data"
    }
   ],
   "source": [
    "lucky :: (Integral a) => a -> String\n",
    "lucky x = \"You're out of luck, pal !\"\n",
    "lucky 7 = \"Lucky number seven !\"\n",
    "\n",
    "lucky 7\n",
    "lucky 10"
   ]
  },
  {
   "cell_type": "markdown",
   "metadata": {
    "nteract": {
     "transient": {
      "deleting": false
     }
    }
   },
   "source": [
    "Order is important when specifying patterns and it's always best to ***specify the most specific ones first and then the more general ones later***: e.g. `factorial` function (pattern match & recursion)"
   ]
  },
  {
   "cell_type": "code",
   "execution_count": 4,
   "metadata": {
    "jupyter": {
     "outputs_hidden": false,
     "source_hidden": false
    },
    "nteract": {
     "transient": {
      "deleting": false
     }
    }
   },
   "outputs": [
    {
     "data": {
      "text/plain": [
       "120"
      ]
     },
     "metadata": {},
     "output_type": "display_data"
    }
   ],
   "source": [
    "factorial :: (Integral a) => a -> a\n",
    "\n",
    "-- the orders can't be inverted\n",
    "factorial 0 = 1\n",
    "factorial n = n * factorial (n - 1)\n",
    "factorial 5"
   ]
  },
  {
   "cell_type": "markdown",
   "metadata": {
    "nteract": {
     "transient": {
      "deleting": false
     }
    }
   },
   "source": [
    "Pattern matching can also fail; when we have non-exhausive patterns.\n",
    "When making patterns, we should always include a catch-all pattern so that our program doesn't crash if we get some unexpected input."
   ]
  },
  {
   "cell_type": "code",
   "execution_count": 5,
   "metadata": {
    "jupyter": {
     "outputs_hidden": false,
     "source_hidden": false
    },
    "nteract": {
     "transient": {
      "deleting": false
     }
    }
   },
   "outputs": [
    {
     "data": {
      "text/plain": [
       "\"Albert\""
      ]
     },
     "metadata": {},
     "output_type": "display_data"
    },
    {
     "data": {
      "text/plain": [
       "\"Broseph\""
      ]
     },
     "metadata": {},
     "output_type": "display_data"
    },
    {
     "ename": "",
     "evalue": "",
     "output_type": "error",
     "traceback": [
      "<interactive>:(2,1)-(4,22): Non-exhaustive patterns in function charName"
     ]
    }
   ],
   "source": [
    "charName :: Char -> String\n",
    "charName 'a' = \"Albert\"\n",
    "charName 'b' = \"Broseph\"\n",
    "charName 'c' = \"Cecil\"\n",
    "\n",
    "charName 'a'\n",
    "charName 'b'\n",
    "charName 'h'"
   ]
  },
  {
   "cell_type": "markdown",
   "metadata": {
    "nteract": {
     "transient": {
      "deleting": false
     }
    }
   },
   "source": [
    "Pattern matching on tuples"
   ]
  },
  {
   "cell_type": "code",
   "execution_count": 6,
   "metadata": {
    "jupyter": {
     "outputs_hidden": false,
     "source_hidden": false
    },
    "nteract": {
     "transient": {
      "deleting": false
     }
    }
   },
   "outputs": [
    {
     "data": {
      "text/plain": [
       "(3,3)"
      ]
     },
     "metadata": {},
     "output_type": "display_data"
    },
    {
     "data": {
      "text/plain": [
       "(3,3)"
      ]
     },
     "metadata": {},
     "output_type": "display_data"
    }
   ],
   "source": [
    "addVectors :: (Num a) => (a, a) -> (a, a) -> (a, a)\n",
    "addVectors a b = (fst a + fst b, snd a + snd b)\n",
    "addVectors (1, 1) (2, 2)\n",
    "-- vs.\n",
    "addVectors :: (Num a) => (a, a) -> (a, a) -> (a, a)\n",
    "addVectors (x1, y1) (x2, y2) = (x1 + x2, y1 + y2)\n",
    "addVectors (1, 1) (2, 2)"
   ]
  },
  {
   "cell_type": "markdown",
   "metadata": {
    "nteract": {
     "transient": {
      "deleting": false
     }
    }
   },
   "source": [
    "`_` means the same thing as it does in list comprehensions.\n",
    "It means that we really don't care what that part is, so we just write a `_`.\n",
    "E.g.: `fst` and `snd` on tuples"
   ]
  },
  {
   "cell_type": "code",
   "execution_count": 7,
   "metadata": {
    "jupyter": {
     "outputs_hidden": false,
     "source_hidden": false
    },
    "nteract": {
     "transient": {
      "deleting": false
     }
    }
   },
   "outputs": [
    {
     "data": {
      "text/plain": [
       "1"
      ]
     },
     "metadata": {},
     "output_type": "display_data"
    },
    {
     "data": {
      "text/plain": [
       "2"
      ]
     },
     "metadata": {},
     "output_type": "display_data"
    },
    {
     "data": {
      "text/plain": [
       "3"
      ]
     },
     "metadata": {},
     "output_type": "display_data"
    }
   ],
   "source": [
    "first :: (a, b, c) -> a\n",
    "first (x, _, _) = x\n",
    "second :: (a, b, c) -> b\n",
    "second (_, y, _) = y\n",
    "third :: (a, b, c) -> c\n",
    "third (_, _, z) = z\n",
    "\n",
    "first (1, 2, 3)\n",
    "second (1, 2, 3)\n",
    "third (1, 2, 3)"
   ]
  },
  {
   "cell_type": "markdown",
   "metadata": {
    "nteract": {
     "transient": {
      "deleting": false
     }
    }
   },
   "source": [
    "Pattern matching in list comprehensions:\n",
    "Should a pattern match fail, it will just move on to the next element"
   ]
  },
  {
   "cell_type": "code",
   "execution_count": 8,
   "metadata": {
    "jupyter": {
     "outputs_hidden": false,
     "source_hidden": false
    },
    "nteract": {
     "transient": {
      "deleting": false
     }
    }
   },
   "outputs": [
    {
     "data": {
      "text/plain": [
       "[4,7,6,8,11,4]"
      ]
     },
     "metadata": {},
     "output_type": "display_data"
    }
   ],
   "source": [
    "let xs = [(1,3), (4,3), (2,4), (5,3), (5,6), (3,1)]\n",
    "[ a + b | (a, b) <- xs ]"
   ]
  },
  {
   "cell_type": "markdown",
   "metadata": {
    "nteract": {
     "transient": {
      "deleting": false
     }
    }
   },
   "source": [
    "Pattern matching on lists:\n",
    "- We can match with the empty list `[]` or any pattern that involves `:` and the empty list\n",
    "- We can also use `[1, 2, 3]`-style syntax sugar\n",
    "- A pattern like `x:xs` will bind the head of the list to `x` and the rest of it to `xs`, even if there's only one element so `xs` ends up being an empty list\n",
    "  * This pattern is used a lot, especially with recursive functions.\n",
    "    But note that patterns that have `:` in them **only match against lists of length 1 or more**\n",
    "\n",
    "E.g.: Our own implementation of the `head` function"
   ]
  },
  {
   "cell_type": "code",
   "execution_count": 9,
   "metadata": {
    "jupyter": {
     "outputs_hidden": false,
     "source_hidden": false
    },
    "nteract": {
     "transient": {
      "deleting": false
     }
    }
   },
   "outputs": [
    {
     "data": {
      "text/plain": [
       "4"
      ]
     },
     "metadata": {},
     "output_type": "display_data"
    },
    {
     "data": {
      "text/plain": [
       "'H'"
      ]
     },
     "metadata": {},
     "output_type": "display_data"
    }
   ],
   "source": [
    "head' :: [a] -> a\n",
    "head' [] = error \"Can't call head on an empty list, dummy !\"\n",
    "head' (x:_) = x\n",
    "\n",
    "head' [4, 5, 5]\n",
    "head' \"Hello\""
   ]
  },
  {
   "cell_type": "markdown",
   "metadata": {
    "nteract": {
     "transient": {
      "deleting": false
     }
    }
   },
   "source": [
    "MEMO:\n",
    "The `error` function takes a string and generates a runtime error, using the string as information about what kind of error occured.\n",
    "It causes the program to crash, so it's not good to use it too much."
   ]
  },
  {
   "cell_type": "markdown",
   "metadata": {
    "nteract": {
     "transient": {
      "deleting": false
     }
    }
   },
   "source": [
    "More pattern matching exmaples:"
   ]
  },
  {
   "cell_type": "code",
   "execution_count": 10,
   "metadata": {
    "jupyter": {
     "outputs_hidden": false,
     "source_hidden": false
    },
    "nteract": {
     "transient": {
      "deleting": false
     }
    }
   },
   "outputs": [
    {
     "data": {
      "text/plain": [
       "\"The list is empty\""
      ]
     },
     "metadata": {},
     "output_type": "display_data"
    },
    {
     "data": {
      "text/plain": [
       "\"The list has one element: 1\""
      ]
     },
     "metadata": {},
     "output_type": "display_data"
    },
    {
     "data": {
      "text/plain": [
       "\"The list has two elements: 1 and 2\""
      ]
     },
     "metadata": {},
     "output_type": "display_data"
    },
    {
     "data": {
      "text/plain": [
       "\"This list is long; the first two elements are: 1 and 2\""
      ]
     },
     "metadata": {},
     "output_type": "display_data"
    }
   ],
   "source": [
    "tell :: (Show a) => [a] -> String\n",
    "tell [] = \"The list is empty\"\n",
    "tell (x:[]) = \"The list has one element: \" ++ show x\n",
    "tell (x:y:[]) = \"The list has two elements: \" ++ show x ++ \" and \" ++ show y\n",
    "tell (x:y:_) = \"This list is long; the first two elements are: \" ++ show x ++ \" and \" ++ show y\n",
    "\n",
    "tell []\n",
    "tell [1]\n",
    "tell [1,2]\n",
    "tell [1..100]"
   ]
  },
  {
   "cell_type": "code",
   "execution_count": 11,
   "metadata": {
    "jupyter": {
     "outputs_hidden": false,
     "source_hidden": false
    },
    "nteract": {
     "transient": {
      "deleting": false
     }
    }
   },
   "outputs": [
    {
     "data": {
      "text/plain": [
       "2"
      ]
     },
     "metadata": {},
     "output_type": "display_data"
    },
    {
     "data": {
      "text/plain": [
       "10"
      ]
     },
     "metadata": {},
     "output_type": "display_data"
    },
    {
     "data": {
      "text/plain": [
       "3"
      ]
     },
     "metadata": {},
     "output_type": "display_data"
    }
   ],
   "source": [
    "length' :: (Num b) => [a] -> b\n",
    "length' [] = 0 -- edge condition\n",
    "length' (_:xs) = 1 + length' xs\n",
    "\n",
    "length' [1,2]\n",
    "length' [1..10]\n",
    "length' \"ham\" -- polymorphism !"
   ]
  },
  {
   "cell_type": "code",
   "execution_count": 12,
   "metadata": {
    "jupyter": {
     "outputs_hidden": false,
     "source_hidden": false
    },
    "nteract": {
     "transient": {
      "deleting": false
     }
    }
   },
   "outputs": [
    {
     "data": {
      "text/plain": [
       "500500"
      ]
     },
     "metadata": {},
     "output_type": "display_data"
    },
    {
     "data": {
      "text/plain": [
       "250000"
      ]
     },
     "metadata": {},
     "output_type": "display_data"
    }
   ],
   "source": [
    "sum' :: (Num a) => [a] -> a\n",
    "sum' [] = 0\n",
    "sum' (x:xs) = x + sum' xs\n",
    "\n",
    "sum' [1..1000]\n",
    "sum' [1,3..1000]"
   ]
  },
  {
   "cell_type": "markdown",
   "metadata": {
    "nteract": {
     "transient": {
      "deleting": false
     }
    }
   },
   "source": [
    "### As Patterns\n",
    "Those are a handy way of breaking something up according to a pattern and binding it to names whilst still keeping a reference to the whole thing.\n",
    "\n",
    "Put a name and an `@` in front of a pattern, e.g. `xs@(x:y:ys)`:\n",
    "will match exactly the same thing as `x:y:ys` but we can easily get the whole list via `xs` instead of repeating ourselves by typign out `x:y:ys` in the function body again."
   ]
  },
  {
   "cell_type": "code",
   "execution_count": 13,
   "metadata": {
    "jupyter": {
     "outputs_hidden": false,
     "source_hidden": false
    },
    "nteract": {
     "transient": {
      "deleting": false
     }
    }
   },
   "outputs": [
    {
     "data": {
      "text/plain": [
       "\"The first letter of Shuhei is S\""
      ]
     },
     "metadata": {},
     "output_type": "display_data"
    }
   ],
   "source": [
    "capital :: String -> String\n",
    "capital \"\" = \"Empty string, whoops !\"\n",
    "capital all@(x:xs) = \"The first letter of \" ++ all ++ \" is \" ++ [x]\n",
    "capital \"Shuhei\""
   ]
  },
  {
   "cell_type": "markdown",
   "metadata": {
    "nteract": {
     "transient": {
      "deleting": false
     }
    }
   },
   "source": [
    "## Guards"
   ]
  },
  {
   "cell_type": "code",
   "execution_count": 14,
   "metadata": {
    "jupyter": {
     "outputs_hidden": false,
     "source_hidden": false
    },
    "nteract": {
     "transient": {
      "deleting": false
     }
    }
   },
   "outputs": [
    {
     "data": {
      "text/plain": [
       "\"You're supposedly normal. Pffft, I bet you're ugly !\""
      ]
     },
     "metadata": {},
     "output_type": "display_data"
    }
   ],
   "source": [
    "bmiTell :: (RealFloat a) => a -> String\n",
    "bmiTell bmi\n",
    "  | bmi <= 18.5 = \"You're underweight, you emo, you !\"\n",
    "  | bmi <= 25.0 = \"You're supposedly normal. Pffft, I bet you're ugly !\"\n",
    "  | bmi <= 30.0 = \"You're fat ! Lose some weight, fatty !\"\n",
    "  | otherwise   = \"You're a whale, congratulations !\"\n",
    "bmiTell 23.5"
   ]
  },
  {
   "cell_type": "markdown",
   "metadata": {
    "nteract": {
     "transient": {
      "deleting": false
     }
    }
   },
   "source": [
    "- Guards are indicated by pipes that follow a function's name and its parameters\n",
    "  * Usually, they're indented a bit to the right and lined up\n",
    "- A guard is basically a boolean expression.\n",
    "  * If it evaluates to `True`, then the corresponding function body is used\n",
    "  * If it evaluates to `False`, checking drops through to the next guard and so on\n",
    "- Guards are a very nice alternative for a big `if`/`else` tree in imperative languages; only this is far better and more readable\n",
    "- `otherwise` is defined simply as `otherwise = True` and catches everything\n",
    "- If all the guards of a function evaluate to `False`, evaluation falls through to the next ***pattern***; how patterns and guards play nicely together\n",
    "\n",
    "NOTE: there's no `=` right after the function name and its parameters, before the first guard"
   ]
  },
  {
   "cell_type": "code",
   "execution_count": 15,
   "metadata": {
    "jupyter": {
     "outputs_hidden": false,
     "source_hidden": false
    },
    "nteract": {
     "transient": {
      "deleting": false
     }
    }
   },
   "outputs": [
    {
     "data": {
      "text/plain": [
       "\"You're supposedly normal. Pffft, I bet you're ugly !\""
      ]
     },
     "metadata": {},
     "output_type": "display_data"
    }
   ],
   "source": [
    "bmiTell :: (RealFloat a) => a -> a -> String\n",
    "bmiTell weight height\n",
    "  | weight / height ^ 2 <= 18.5 = \"You're underweight, you emo, you !\"\n",
    "  | weight / height ^ 2 <= 25.0 = \"You're supposedly normal. Pffft, I bet you're ugly !\"\n",
    "  | weight / height ^ 2 <= 30.0 = \"You're fat ! Lose some weight, fatty !\"\n",
    "  | otherwise   = \"You're a whale, congratulations !\"\n",
    "bmiTell 75.0 1.85"
   ]
  },
  {
   "cell_type": "code",
   "execution_count": 16,
   "metadata": {
    "jupyter": {
     "outputs_hidden": false,
     "source_hidden": false
    },
    "nteract": {
     "transient": {
      "deleting": false
     }
    }
   },
   "outputs": [
    {
     "data": {
      "text/plain": [
       "LT"
      ]
     },
     "metadata": {},
     "output_type": "display_data"
    }
   ],
   "source": [
    "compare' :: (Ord a) => a -> a -> Ordering\n",
    "a `compare'` b\n",
    "  | a > b     = GT\n",
    "  | a == b    = EQ\n",
    "  | otherwise = LT\n",
    "1 `compare'` 2"
   ]
  },
  {
   "cell_type": "markdown",
   "metadata": {
    "nteract": {
     "transient": {
      "deleting": false
     }
    }
   },
   "source": [
    "## `where` Bindings\n",
    "\n",
    "We wrote;\n",
    "```haskell\n",
    "bmiTell :: (RealFloat a) => a -> a -> String\n",
    "bmiTell weight height\n",
    "  | weight / height ^ 2 <= 18.5 = \"You're underweight, you emo, you !\"\n",
    "  | weight / height ^ 2 <= 25.0 = \"You're supposedly normal. Pffft, I bet you're ugly !\"\n",
    "  | weight / height ^ 2 <= 30.0 = \"You're fat ! Lose some weight, fatty !\"\n",
    "  | otherwise   = \"You're a whale, congratulations !\"\n",
    "bmiTell 75.0 1.85\n",
    "```\n",
    "... Repeating ourselves three times while programming is about as desirable as getting kicked inna head."
   ]
  },
  {
   "cell_type": "code",
   "execution_count": 17,
   "metadata": {
    "jupyter": {
     "outputs_hidden": false,
     "source_hidden": false
    },
    "nteract": {
     "transient": {
      "deleting": false
     }
    }
   },
   "outputs": [
    {
     "data": {
      "text/plain": [
       "\"You're supposedly normal. Pffft, I bet you're ugly !\""
      ]
     },
     "metadata": {},
     "output_type": "display_data"
    }
   ],
   "source": [
    "bmiTell :: (RealFloat a) => a -> a -> String\n",
    "bmiTell weight height\n",
    "  | bmi <= 18.5 = \"You're underweight, you emo, you !\"\n",
    "  | bmi <= 25.0 = \"You're supposedly normal. Pffft, I bet you're ugly !\"\n",
    "  | bmi <= 30.0 = \"You're fat ! Lose some weight, fatty !\"\n",
    "  | otherwise   = \"You're a whale, congratulations !\"\n",
    "  where bmi = weight / height ^ 2\n",
    "bmiTell 75 1.85"
   ]
  },
  {
   "cell_type": "markdown",
   "metadata": {
    "nteract": {
     "transient": {
      "deleting": false
     }
    }
   },
   "source": [
    "Guard:\n",
    "- put the keyword `where` after the guards, and then define several names and functions\n",
    "  * usually it's best to indent it as much as the pipes are indented\n",
    "- these names are visible across the guards; and thus no repeating the same thing !\n",
    "  * they are only visible to that function, so we don't have to worry about them polluting the namespace of other functions\n",
    "\n",
    "Advantages:\n",
    "- maintainability: we only have to change the one place\n",
    "- readability: by giving names to things\n",
    "- performance: stuff like `bmi` variable here is calculated only once\n",
    "\n",
    "NOTE:\n",
    "`where` bindings aren't shared across function bodies of different patterns.\n",
    "If we want several patterns of one function to access some shared name, we have to define it globally."
   ]
  },
  {
   "cell_type": "code",
   "execution_count": 18,
   "metadata": {
    "jupyter": {
     "outputs_hidden": false,
     "source_hidden": false
    },
    "nteract": {
     "transient": {
      "deleting": false
     }
    }
   },
   "outputs": [
    {
     "data": {
      "text/plain": [
       "\"You're supposedly normal. Pffft, I bet you're ugly !\""
      ]
     },
     "metadata": {},
     "output_type": "display_data"
    }
   ],
   "source": [
    "-- Multiple names in a single `where` section\n",
    "bmiTell :: (RealFloat a) => a -> a -> String\n",
    "bmiTell weight height\n",
    "  | bmi <= skinny = \"You're underweight, you emo, you !\"\n",
    "  | bmi <= normal = \"You're supposedly normal. Pffft, I bet you're ugly !\"\n",
    "  | bmi <= fat    = \"You're fat ! Lose some weight, fatty !\"\n",
    "  | otherwise     = \"You're a whale, congratulations !\"\n",
    "  -- NOTE: all the names should be aligned at a single column\n",
    "  where bmi = weight / height ^ 2\n",
    "        skinny = 18.5\n",
    "        normal = 25.0\n",
    "        fat    = 30.0\n",
    "bmiTell 75 1.85"
   ]
  },
  {
   "cell_type": "markdown",
   "metadata": {
    "nteract": {
     "transient": {
      "deleting": false
     }
    }
   },
   "source": [
    "Pattern match in `where` bindings:\n",
    "```haskell\n",
    "...\n",
    "where bmi = weight / height ^ 2\n",
    "      (skinny, normal, fat) = (18.5, 25.0, 30.0)\n",
    "```\n",
    "\n",
    "```haskell\n",
    "-- pattern match in where section\n",
    "initials firstname lastname = [f] ++ \". \" ++ [l] ++ \".\"\n",
    "  where (f:_) = firstname\n",
    "        (l:_) = lastname\n",
    "initials \"Shuhei\" \"Kadowaki\"\n",
    "```\n",
    "is same as\n",
    "```haskell\n",
    "-- pattern match in function's parameters\n",
    "initials (f:_) (l:_) = [f] ++ \". \" ++ [l] ++ \".\"\n",
    "initials \"Shuhei\" \"Kadowaki\"\n",
    "```"
   ]
  },
  {
   "cell_type": "markdown",
   "metadata": {
    "nteract": {
     "transient": {
      "deleting": false
     }
    }
   },
   "source": [
    "Define functions in `where` blocks"
   ]
  },
  {
   "cell_type": "code",
   "execution_count": 19,
   "metadata": {
    "jupyter": {
     "outputs_hidden": false,
     "source_hidden": false
    },
    "nteract": {
     "transient": {
      "deleting": false
     }
    }
   },
   "outputs": [],
   "source": [
    "calcBmis :: (RealFloat a) => [(a, a)] -> [a]\n",
    "calcBmis xs = [ bmi w h | (w, h) <- xs ]\n",
    "  where bmi weight height = weight / height ^ 2"
   ]
  },
  {
   "cell_type": "markdown",
   "metadata": {
    "nteract": {
     "transient": {
      "deleting": false
     }
    }
   },
   "source": [
    "Nested `where` bindings;\n",
    "it's a common idiom to make a function and define some helper function in its `where` clause\n",
    "and then to give those functions helper functions as well, eatch with its own `where` clause"
   ]
  },
  {
   "cell_type": "markdown",
   "metadata": {
    "nteract": {
     "transient": {
      "deleting": false
     }
    }
   },
   "source": [
    "## `let` Bindings\n",
    "\n",
    "Very similar to `where` bindings are `let` bindings:\n",
    "\n",
    "|         | location                                                                   | scope                                                     |\n",
    "|---------|----------------------------------------------------------------------------|-----------------------------------------------------------|\n",
    "| `where` | syntactic construct that let us bind to variables at the end of a function | the whole function can see them, including all the guards |\n",
    "| `let`   | let us bind to variables anywhere, and name comes first                    | very local, so don't span across guards                   |"
   ]
  },
  {
   "cell_type": "code",
   "execution_count": 20,
   "metadata": {
    "jupyter": {
     "outputs_hidden": false,
     "source_hidden": false
    },
    "nteract": {
     "transient": {
      "deleting": false
     }
    }
   },
   "outputs": [
    {
     "data": {
      "text/plain": [
       "18.84955592153876"
      ]
     },
     "metadata": {},
     "output_type": "display_data"
    }
   ],
   "source": [
    "-- `let` bindings in action:\n",
    "cylinder :: (RealFloat a) => a -> a -> a\n",
    "cylinder r h =\n",
    "  let sideArea = 2 * pi * r * h\n",
    "      topArea  = pi * r ^ 2\n",
    "  in  sideArea + 2 * topArea\n",
    "cylinder 1 2"
   ]
  },
  {
   "cell_type": "markdown",
   "metadata": {
    "nteract": {
     "transient": {
      "deleting": false
     }
    }
   },
   "source": [
    "`let <bindings> in <expression>` form:\n",
    "- the names that you define in the `let` part are accessible to the expression to after the `in` part\n",
    "- puts bindings first and the expression that uses them later\n",
    "\n",
    "`let` bindings are expressions themselves:\n",
    "- c.f.: `if`/`else` statement is an expression and we can cram it in almost anywhere\n",
    "- c.f.: `where` bindings are just syntactic constructs"
   ]
  },
  {
   "cell_type": "code",
   "execution_count": 21,
   "metadata": {
    "jupyter": {
     "outputs_hidden": false,
     "source_hidden": false
    },
    "nteract": {
     "transient": {
      "deleting": false
     }
    }
   },
   "outputs": [
    {
     "data": {
      "text/plain": [
       "42"
      ]
     },
     "metadata": {},
     "output_type": "display_data"
    },
    {
     "data": {
      "text/plain": [
       "[(25,9,4)]"
      ]
     },
     "metadata": {},
     "output_type": "display_data"
    },
    {
     "data": {
      "text/plain": [
       "(6000000,\"Hey there !\")"
      ]
     },
     "metadata": {},
     "output_type": "display_data"
    },
    {
     "data": {
      "text/plain": [
       "600"
      ]
     },
     "metadata": {},
     "output_type": "display_data"
    }
   ],
   "source": [
    "-- let bindings\n",
    "4 * (let a = 9 in a + 1) + 2\n",
    "\n",
    "-- local function\n",
    "[let square x = x * x in (square 5, square 3, square 2)]\n",
    "\n",
    "-- inline bindings (with semicolons)\n",
    "(let a = 100; b = 200; c = 300 in a * b * c, let foo = \"Hey \"; bar = \"there !\" in foo ++ bar)\n",
    "\n",
    "-- pattern match with `let` bindings\n",
    "(let (a, b, c) = (1, 2, 3) in a + b + c) * 100"
   ]
  },
  {
   "cell_type": "markdown",
   "metadata": {
    "nteract": {
     "transient": {
      "deleting": false
     }
    }
   },
   "source": [
    "`let` inside a list comprehension:\n",
    "- it doesn't filter the list, it only binds to names\n",
    "- the names introduced are visible to the output function (the part before the `|`) and all predicate and sections that come after of the binding"
   ]
  },
  {
   "cell_type": "code",
   "execution_count": 22,
   "metadata": {
    "jupyter": {
     "outputs_hidden": false,
     "source_hidden": false
    },
    "nteract": {
     "transient": {
      "deleting": false
     }
    }
   },
   "outputs": [],
   "source": [
    "calcBmis :: (RealFloat a) => [(a, a)] -> [a]\n",
    "calcBmis xs = [ bmi | (w, h) <- xs, let bmi = w / h ^ 2, bmi >= 25.0 ]"
   ]
  },
  {
   "cell_type": "markdown",
   "metadata": {
    "nteract": {
     "transient": {
      "deleting": false
     }
    }
   },
   "source": [
    "`in` clause:\n",
    "- not necessary in list comphension: the visibility of the names is already predefined there\n",
    "- if omitted when defining functions and constants directly in GHCI, then the names will be visible throughout the entire interactive session"
   ]
  },
  {
   "cell_type": "code",
   "execution_count": 23,
   "metadata": {
    "jupyter": {
     "outputs_hidden": false,
     "source_hidden": false
    },
    "nteract": {
     "transient": {
      "deleting": false
     }
    }
   },
   "outputs": [
    {
     "data": {
      "text/plain": [
       "29"
      ]
     },
     "metadata": {},
     "output_type": "display_data"
    },
    {
     "data": {
      "text/plain": [
       "14"
      ]
     },
     "metadata": {},
     "output_type": "display_data"
    },
    {
     "ename": "",
     "evalue": "",
     "output_type": "error",
     "traceback": [
      "<interactive>:1:1: error:\n    • Variable not in scope: boot\n    • Perhaps you meant ‘zoot’ (line 1)"
     ]
    }
   ],
   "source": [
    "let zoot x y z = x * y + z\n",
    "zoot 3 9 2\n",
    "\n",
    "let boot x y z = x * y + z in boot 3 4 2\n",
    "boot -- should error"
   ]
  },
  {
   "cell_type": "markdown",
   "metadata": {
    "nteract": {
     "transient": {
      "deleting": false
     }
    }
   },
   "source": [
    "Why not always `let` instead of `where` ?\n",
    "- `let` bindings are expressions and fairly local in their scope, they can't be used across guards\n",
    "- the names introduced by `where` come after the function they're being used in; that way, the function body is close to its name and type declaration (and so maybe more readble)"
   ]
  },
  {
   "cell_type": "markdown",
   "metadata": {
    "nteract": {
     "transient": {
      "deleting": false
     }
    }
   },
   "source": [
    "## Case Expressions\n",
    "\n",
    "In Haskell:\n",
    "- case expressions are expressions, much like `if`/`else` expressions and `let` bindings\n",
    "- not only can we evaluate expressions based on the possible cases of the value of a variable, we can also do pattern matching:"
   ]
  },
  {
   "cell_type": "code",
   "execution_count": 24,
   "metadata": {
    "jupyter": {
     "outputs_hidden": false,
     "source_hidden": false
    },
    "nteract": {
     "transient": {
      "deleting": false
     }
    }
   },
   "outputs": [],
   "source": [
    "head' :: [a] -> a\n",
    "head' [] = error \"No head for empty lists !\"\n",
    "head' (x:_) = x"
   ]
  },
  {
   "cell_type": "markdown",
   "metadata": {
    "nteract": {
     "transient": {
      "deleting": false
     }
    }
   },
   "source": [
    "is same as"
   ]
  },
  {
   "cell_type": "code",
   "execution_count": 25,
   "metadata": {
    "jupyter": {
     "outputs_hidden": false,
     "source_hidden": false
    },
    "nteract": {
     "transient": {
      "deleting": false
     }
    }
   },
   "outputs": [],
   "source": [
    "head' :: [a] -> a\n",
    "head' xs = case xs of [] -> error \"No head for empty lists !\"\n",
    "                      (x:_) -> x"
   ]
  },
  {
   "cell_type": "markdown",
   "metadata": {
    "nteract": {
     "transient": {
      "deleting": false
     }
    }
   },
   "source": [
    "```haskell\n",
    "case expression of pattern1 -> result1\n",
    "                   pattern2 -> result2\n",
    "                   pattern3 -> result3\n",
    "                   ...\n",
    "```\n",
    "\n",
    "`expression` is matched against the `pattern`s:\n",
    "- the pattern matching action is the same as expected; the first pattern that matches the expression is used\n",
    "- if it falls through the whole case expression and no suitable pattern is found, a runtime error occurs\n",
    "\n",
    "c.f.: pattern matching on parameters in function definitions:\n",
    "- **that's actually just syntactic sugar for case expressions !**\n",
    "- v.s.:\n",
    "  * pattern matching on function parameters: can only be done when defining functions\n",
    "  * case expressions can be used pretty much anywhere"
   ]
  },
  {
   "cell_type": "code",
   "execution_count": 26,
   "metadata": {
    "jupyter": {
     "outputs_hidden": false,
     "source_hidden": false
    },
    "nteract": {
     "transient": {
      "deleting": false
     }
    }
   },
   "outputs": [
    {
     "data": {
      "text/plain": [
       "\"The list is a longer list.\""
      ]
     },
     "metadata": {},
     "output_type": "display_data"
    },
    {
     "data": {
      "text/plain": [
       "\"The list is a longer list.\""
      ]
     },
     "metadata": {},
     "output_type": "display_data"
    }
   ],
   "source": [
    "describeList :: [a] -> String\n",
    "describeList xs = \"The list is \" ++ case xs of []  -> \"empty.\"\n",
    "                                               [x] -> \"a single list.\"\n",
    "                                               xs  -> \"a longer list.\"\n",
    "\n",
    "describeList' :: [a] -> String\n",
    "describeList' xs = \"The list is \" ++ what xs\n",
    "  where what []  = \"empty.\"\n",
    "        what [x] = \"a singleton list.\"\n",
    "        what xs  = \"a longer list.\"\n",
    "\n",
    "describeList \"Shuhei\"\n",
    "describeList' \"Shuhei\""
   ]
  }
 ],
 "metadata": {
  "kernelspec": {
   "display_name": "Haskell",
   "language": "haskell",
   "name": "haskell"
  },
  "language_info": {
   "codemirror_mode": "ihaskell",
   "file_extension": ".hs",
   "name": "haskell",
   "pygments_lexer": "Haskell",
   "version": "8.6.5"
  }
 },
 "nbformat": 4,
 "nbformat_minor": 1
}
